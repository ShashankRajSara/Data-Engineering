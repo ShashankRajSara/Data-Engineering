{
 "cells": [
  {
   "cell_type": "code",
   "execution_count": 7,
   "metadata": {},
   "outputs": [
    {
     "name": "stdout",
     "output_type": "stream",
     "text": [
      "Hello World!\n"
     ]
    }
   ],
   "source": [
    "print('Hello World!')"
   ]
  },
  {
   "cell_type": "code",
   "execution_count": 8,
   "metadata": {},
   "outputs": [
    {
     "name": "stdout",
     "output_type": "stream",
     "text": [
      "<class 'int'>\n"
     ]
    }
   ],
   "source": [
    "# Age is a object of class int\n",
    "age=60\n",
    "print(type(age))"
   ]
  },
  {
   "cell_type": "code",
   "execution_count": 9,
   "metadata": {},
   "outputs": [
    {
     "data": {
      "text/plain": [
       "140728480819848"
      ]
     },
     "execution_count": 9,
     "metadata": {},
     "output_type": "execute_result"
    }
   ],
   "source": [
    "# memory location\n",
    "id(age)"
   ]
  },
  {
   "cell_type": "code",
   "execution_count": 11,
   "metadata": {},
   "outputs": [
    {
     "ename": "NameError",
     "evalue": "name 'age' is not defined",
     "output_type": "error",
     "traceback": [
      "\u001b[1;31m---------------------------------------------------------------------------\u001b[0m",
      "\u001b[1;31mNameError\u001b[0m                                 Traceback (most recent call last)",
      "Cell \u001b[1;32mIn[11], line 2\u001b[0m\n\u001b[0;32m      1\u001b[0m \u001b[39m# to remove reference of a variavle - to delete\u001b[39;00m\n\u001b[1;32m----> 2\u001b[0m \u001b[39mdel\u001b[39;00m age\n\u001b[0;32m      3\u001b[0m \u001b[39mprint\u001b[39m(age)\n",
      "\u001b[1;31mNameError\u001b[0m: name 'age' is not defined"
     ]
    }
   ],
   "source": [
    "# to remove reference of a variable - to delete\n",
    "del age\n",
    "print(age)"
   ]
  },
  {
   "cell_type": "code",
   "execution_count": 12,
   "metadata": {},
   "outputs": [],
   "source": [
    "# String, char\n",
    "name= 'Shashank'\n"
   ]
  },
  {
   "cell_type": "code",
   "execution_count": 15,
   "metadata": {},
   "outputs": [],
   "source": [
    "# multi-line string\n",
    "address= \"\"\"this is \n",
    "the \n",
    "address\"\"\""
   ]
  },
  {
   "cell_type": "code",
   "execution_count": 20,
   "metadata": {},
   "outputs": [
    {
     "name": "stdout",
     "output_type": "stream",
     "text": [
      "my age is 60\n",
      "my age id 60\n"
     ]
    }
   ],
   "source": [
    "# String Interpolation or formating\n",
    "age=60\n",
    "print('my age is', age)\n",
    "\n",
    "print(f'my age id {age}')"
   ]
  },
  {
   "cell_type": "code",
   "execution_count": 21,
   "metadata": {},
   "outputs": [
    {
     "name": "stdout",
     "output_type": "stream",
     "text": [
      "my company is Miles and year is 2023\n"
     ]
    }
   ],
   "source": [
    "year=2023\n",
    "com='Miles'\n",
    "print(f'my company is {com} and year is {year}')"
   ]
  },
  {
   "cell_type": "code",
   "execution_count": 22,
   "metadata": {},
   "outputs": [
    {
     "name": "stdout",
     "output_type": "stream",
     "text": [
      "hey user surya\n"
     ]
    }
   ],
   "source": [
    "username='surya'\n",
    "msg=f'hey user {username}'\n",
    "\n",
    "print(msg)"
   ]
  },
  {
   "cell_type": "code",
   "execution_count": 24,
   "metadata": {},
   "outputs": [
    {
     "name": "stdout",
     "output_type": "stream",
     "text": [
      "hey user surya\n"
     ]
    }
   ],
   "source": [
    "username='aman'\n",
    "print(msg)"
   ]
  },
  {
   "cell_type": "code",
   "execution_count": 27,
   "metadata": {},
   "outputs": [
    {
     "name": "stdout",
     "output_type": "stream",
     "text": [
      "name tushar from Rajasthan\n",
      "name tushar from Rajasthan\n",
      "name Rajasthan from tushar\n"
     ]
    }
   ],
   "source": [
    "# format\n",
    "print('name {} from {}'.format('tushar','Rajasthan'))\n",
    "\n",
    "print('name {0} from {1}'.format('tushar','Rajasthan'))\n",
    "\n",
    "print('name {1} from {0}'.format('tushar','Rajasthan'))"
   ]
  },
  {
   "cell_type": "code",
   "execution_count": 28,
   "metadata": {},
   "outputs": [],
   "source": [
    "# operator precedence\n",
    "# ** => exponential\n",
    "# * / // , % (same priority)\n",
    "# + - \n",
    "\n",
    "\n",
    "# Left to right\n",
    "\n"
   ]
  },
  {
   "cell_type": "code",
   "execution_count": 37,
   "metadata": {},
   "outputs": [
    {
     "name": "stdout",
     "output_type": "stream",
     "text": [
      "8\n",
      "11\n",
      "5\n",
      "76\n"
     ]
    }
   ],
   "source": [
    "# bitwise - anything which works on 0 and 1 \n",
    "# and or, xor, right left shift\n",
    "\n",
    "print(10 & 9)\n",
    "print(10 | 9)\n",
    "\n",
    "#bitwise right & left shift\n",
    "print(11>>1)\n",
    "print(19<<2)\n"
   ]
  },
  {
   "cell_type": "code",
   "execution_count": 38,
   "metadata": {},
   "outputs": [
    {
     "data": {
      "text/plain": [
       "5.5"
      ]
     },
     "execution_count": 38,
     "metadata": {},
     "output_type": "execute_result"
    }
   ],
   "source": [
    "# number /2**bit\n",
    "11/2**1"
   ]
  },
  {
   "cell_type": "code",
   "execution_count": 48,
   "metadata": {},
   "outputs": [
    {
     "name": "stdout",
     "output_type": "stream",
     "text": [
      "False\n"
     ]
    },
    {
     "data": {
      "text/plain": [
       "False"
      ]
     },
     "execution_count": 48,
     "metadata": {},
     "output_type": "execute_result"
    }
   ],
   "source": [
    "# membership\n",
    "print('S' in 'shashank')\n",
    "\n",
    "16  not in [10,16,20]"
   ]
  },
  {
   "cell_type": "code",
   "execution_count": null,
   "metadata": {},
   "outputs": [],
   "source": []
  },
  {
   "cell_type": "code",
   "execution_count": null,
   "metadata": {},
   "outputs": [],
   "source": []
  },
  {
   "cell_type": "code",
   "execution_count": 69,
   "metadata": {},
   "outputs": [
    {
     "name": "stdout",
     "output_type": "stream",
     "text": [
      "Values are not integer\n"
     ]
    }
   ],
   "source": [
    "# take two numbers from user, check belongs to int do arithmetic operation, otherwise give\n",
    "# values are not integer\n",
    "\n",
    "# n1 = input()\n",
    "# n2 = input()\n",
    "\n",
    "n1 = 200\n",
    "n2 = 50\n",
    "\n",
    "if (type(n1) is int and type(n2) is int):\n",
    "    print(n1+n2)\n",
    "    print(n1-n2)\n",
    "\n",
    "else:\n",
    "    print('Values are not integer')\n"
   ]
  },
  {
   "cell_type": "code",
   "execution_count": 70,
   "metadata": {},
   "outputs": [
    {
     "data": {
      "text/plain": [
       "'EROLG'"
      ]
     },
     "execution_count": 70,
     "metadata": {},
     "output_type": "execute_result"
    }
   ],
   "source": [
    "# slicing operator\n",
    "city='BANGLORE'\n",
    "\n",
    "city[-1:-6:-1]"
   ]
  },
  {
   "cell_type": "code",
   "execution_count": 72,
   "metadata": {},
   "outputs": [
    {
     "name": "stdout",
     "output_type": "stream",
     "text": [
      "30\n",
      "27\n",
      "24\n",
      "21\n",
      "18\n",
      "15\n",
      "12\n"
     ]
    }
   ],
   "source": [
    "# for loop\n",
    "for count in range(30,10,-3):\n",
    "    print(count)"
   ]
  },
  {
   "cell_type": "code",
   "execution_count": 82,
   "metadata": {},
   "outputs": [
    {
     "name": "stdout",
     "output_type": "stream",
     "text": [
      "'A'\n"
     ]
    },
    {
     "data": {
      "text/plain": [
       "\"'a'\""
      ]
     },
     "execution_count": 82,
     "metadata": {},
     "output_type": "execute_result"
    }
   ],
   "source": [
    "# while Loop\n",
    "\n",
    "# count=0\n",
    "# while(count<10):\n",
    "#     print(count,end=' ')\n",
    "#     count+=1\n",
    "\n"
   ]
  },
  {
   "cell_type": "code",
   "execution_count": 112,
   "metadata": {},
   "outputs": [
    {
     "data": {
      "text/plain": [
       "'No small letters'"
      ]
     },
     "execution_count": 112,
     "metadata": {},
     "output_type": "execute_result"
    }
   ],
   "source": [
    "#take a input as a password from a user and validate below conditions:\n",
    "# 1. In the password there should be one capital letter\n",
    "# 2. At least one small letter\n",
    "# 3. there shpould be one number from 0 to 6\n",
    "# 4. also contaom special characters @#\n",
    "\n",
    "vpass = input()\n",
    "count=0\n",
    "capletters='ABCEFGHIJKLMNOPQRSTUVWXYZ'\n",
    "smallletters = 'abcdefghijklmnopqrstuvwxyz'\n",
    "num = '123456'\n",
    "splchars = '@#$'\n",
    "passw=False\n",
    "def check_password(vpass):\n",
    "    if(count<3):\n",
    "        for i in vpass:\n",
    "            if (i in capletters):\n",
    "                passw=True\n",
    "            else:\n",
    "                passw=False\n",
    "                return 'No Capital letters'\n",
    "\n",
    "            if (i in smallletters):\n",
    "                passw=True\n",
    "            else:\n",
    "                passw=False\n",
    "                return 'No small letters'\n",
    "                if (i in num):\n",
    "                    passw=True\n",
    "                else:\n",
    "                    passw=False\n",
    "                    return 'No Numbers from 1 to 6'\n",
    "\n",
    "                if (i in splchars):\n",
    "                    return 'Correct Password'\n",
    "                else:\n",
    "                    return 'No Special Characters'\n",
    "                         \n",
    "    else:\n",
    "        return 'Try Limit Exeeded'\n",
    "\n",
    "check_password(vpass)"
   ]
  },
  {
   "cell_type": "code",
   "execution_count": 111,
   "metadata": {},
   "outputs": [
    {
     "name": "stdout",
     "output_type": "stream",
     "text": [
      "83\n",
      "No Capital Letter\n"
     ]
    }
   ],
   "source": [
    "vpass = input()\n",
    "for i in vpass:\n",
    "    if ord(i) in range(65,91):\n",
    "        print(ord(i))\n",
    "        print('No Capital Letter')"
   ]
  },
  {
   "cell_type": "code",
   "execution_count": 109,
   "metadata": {},
   "outputs": [
    {
     "data": {
      "text/plain": [
       "65"
      ]
     },
     "execution_count": 109,
     "metadata": {},
     "output_type": "execute_result"
    }
   ],
   "source": [
    "#take a input as a password from a user and validate below conditions:\n",
    "# 1. In the password there should be one capital letter\n",
    "# 2. At least one small letter\n",
    "# 3. there shpould be one number from 0 to 6\n",
    "# 4. also contaom special characters @#\n",
    "\n",
    "vpass = input()\n",
    "count=0\n",
    "capletters= [i in range(65,91)]\n",
    "smallletters = [i in range(97,113)]\n",
    "num = ['1','2','3','4','5','6']\n",
    "splchars = ['@','#','$']\n",
    "\n",
    "\n",
    "passw=False\n",
    "def check_password(vpass):\n",
    "    if(count<3):\n",
    "        for i in vpass:\n",
    "            n=ord(i)\n",
    "            if (n in capletters):\n",
    "                passw=True\n",
    "                break\n",
    "            \n",
    "            if (i in smallletters):\n",
    "                passw=True\n",
    "            else:\n",
    "                passw=False\n",
    "                return 'No small letters'\n",
    "                if (i in num):\n",
    "                    passw=True\n",
    "                else:\n",
    "                    passw=False\n",
    "                    return 'No Numbers from 1 to 6'\n",
    "\n",
    "                if (i in splchars):\n",
    "                    return 'Correct Password'\n",
    "                else:\n",
    "                    return 'No Special Characters'\n",
    "                         \n",
    "    else:\n",
    "        return 'Try Limit Exeeded'\n",
    "\n",
    "check_password(vpass)"
   ]
  },
  {
   "cell_type": "code",
   "execution_count": null,
   "metadata": {},
   "outputs": [],
   "source": []
  }
 ],
 "metadata": {
  "kernelspec": {
   "display_name": "Python 3",
   "language": "python",
   "name": "python3"
  },
  "language_info": {
   "codemirror_mode": {
    "name": "ipython",
    "version": 3
   },
   "file_extension": ".py",
   "mimetype": "text/x-python",
   "name": "python",
   "nbconvert_exporter": "python",
   "pygments_lexer": "ipython3",
   "version": "3.11.1"
  },
  "orig_nbformat": 4,
  "vscode": {
   "interpreter": {
    "hash": "4e88bdc4ffaf714f052ea44841663715f0f9ac30e2bb87c5afadf88925ae67cf"
   }
  }
 },
 "nbformat": 4,
 "nbformat_minor": 2
}
