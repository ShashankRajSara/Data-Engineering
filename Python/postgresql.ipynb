{
 "cells": [
  {
   "attachments": {},
   "cell_type": "markdown",
   "metadata": {},
   "source": [
    "## Postgre SQL"
   ]
  },
  {
   "cell_type": "code",
   "execution_count": 12,
   "metadata": {},
   "outputs": [
    {
     "data": {
      "text/plain": [
       "'2.9.5 (dt dec pq3 ext lo64)'"
      ]
     },
     "execution_count": 12,
     "metadata": {},
     "output_type": "execute_result"
    }
   ],
   "source": [
    "import psycopg2 \n",
    "psycopg2.__version__"
   ]
  },
  {
   "attachments": {},
   "cell_type": "markdown",
   "metadata": {},
   "source": [
    "*Connection Variables*"
   ]
  },
  {
   "cell_type": "code",
   "execution_count": 20,
   "metadata": {},
   "outputs": [],
   "source": [
    "hostName = 'localhost'\n",
    "dataBase= 'shashankdb'\n",
    "userName = 'postgres'\n",
    "pwd= 'password'\n",
    "portId = '5432'\n",
    "cur=None\n",
    "conn= None"
   ]
  },
  {
   "attachments": {},
   "cell_type": "markdown",
   "metadata": {},
   "source": [
    "*Connection Code*"
   ]
  },
  {
   "cell_type": "code",
   "execution_count": 21,
   "metadata": {},
   "outputs": [],
   "source": [
    "conn = psycopg2.connect(host=hostName, dbname=dataBase,user=userName, password=pwd ,port=portId)"
   ]
  },
  {
   "cell_type": "code",
   "execution_count": 22,
   "metadata": {},
   "outputs": [],
   "source": [
    "conn.close()"
   ]
  },
  {
   "attachments": {},
   "cell_type": "markdown",
   "metadata": {},
   "source": [
    "*CRED Operations*"
   ]
  },
  {
   "cell_type": "code",
   "execution_count": 23,
   "metadata": {},
   "outputs": [
    {
     "name": "stdout",
     "output_type": "stream",
     "text": [
      "(1, 'Chirantan', 75000, 'D1')\n",
      "(2, 'Ojasvee', 75000, 'D1')\n",
      "(3, 'Prakash', 135000, 'D2')\n"
     ]
    }
   ],
   "source": [
    "try:\n",
    "    conn = psycopg2.connect(host=hostName, dbname=dataBase,user=userName, password=pwd ,port=portId)\n",
    "    cur = conn.cursor()\n",
    "\n",
    "    cur.execute(\"DROP TABLE IF EXISTS employeeMiles\")\n",
    "\n",
    "    createScript= '''CREATE TABLE IF NOT EXISTS employeeMiles(\n",
    "        Id INT PRIMARY KEY,\n",
    "        name VARCHAR(50) NOT NULL,\n",
    "        salary INT,\n",
    "        deptId varchar(50)\n",
    "    )'''\n",
    "\n",
    "    cur.execute(createScript)\n",
    "\n",
    "    insertScript= 'INSERT INTO employeeMiles(id, name,salary,deptId) VALUES (%s,%s,%s,%s)'\n",
    "\n",
    "    insertValue= [(1,'Chirantan',50000,'D1'),(2,'Ojasvee',50000,'D1'),(3,'Prakash',90000,'D2')]\n",
    "\n",
    "    for record in insertValue:\n",
    "        cur.execute(insertScript, record)\n",
    "\n",
    "\n",
    "    #update employeeMiles\n",
    "\n",
    "    updateQuery= 'UPDATE employeeMiles SET salary= salary + (salary*0.5)'\n",
    "    cur.execute(updateQuery)\n",
    "\n",
    "    #fetch the employee data from the database\n",
    "    cur.execute(\"SELECT * FROM employeeMiles\")\n",
    "\n",
    "    for record in cur.fetchall():\n",
    "        print(record)\n",
    "\n",
    "    #all the transactions that we do, we need to commit it, only then we can see that in our db\n",
    "    conn.commit()\n",
    "\n",
    "\n",
    "except Exception as e:\n",
    "    print(e)\n",
    "\n",
    "finally:\n",
    "    if cur is not None:\n",
    "        cur.close()\n",
    "    else:\n",
    "        print(\"Failed to close Cursor\")\n",
    "    if conn is not None:\n",
    "        conn.close()\n",
    "    else:\n",
    "        print(\"Failed to close Connection\")\n",
    "\n"
   ]
  },
  {
   "cell_type": "code",
   "execution_count": null,
   "metadata": {},
   "outputs": [],
   "source": []
  }
 ],
 "metadata": {
  "kernelspec": {
   "display_name": "Python 3",
   "language": "python",
   "name": "python3"
  },
  "language_info": {
   "codemirror_mode": {
    "name": "ipython",
    "version": 3
   },
   "file_extension": ".py",
   "mimetype": "text/x-python",
   "name": "python",
   "nbconvert_exporter": "python",
   "pygments_lexer": "ipython3",
   "version": "3.10.9 (tags/v3.10.9:1dd9be6, Dec  6 2022, 20:01:21) [MSC v.1934 64 bit (AMD64)]"
  },
  "orig_nbformat": 4,
  "vscode": {
   "interpreter": {
    "hash": "478c252231dfe006bc6f75e9071afe2d2dd3e9fa01c3c124e4bb74b28e07e18a"
   }
  }
 },
 "nbformat": 4,
 "nbformat_minor": 2
}
