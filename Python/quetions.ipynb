{
 "cells": [
  {
   "attachments": {},
   "cell_type": "markdown",
   "metadata": {},
   "source": [
    "Q. Hexadecimal"
   ]
  },
  {
   "cell_type": "code",
   "execution_count": null,
   "metadata": {},
   "outputs": [],
   "source": [
    "# TypeConversion from decimal with base 10\n",
    "# to hexadecimal form with base 16\n",
    "\n",
    "\n",
    "# Taking input from user\n",
    "# an integer with base 10\n",
    "number = int(input(\"Enter a number with base 10\\n\"))\n",
    "\n",
    "# The choices present to the user\n",
    "print(\"a. Decimal to Hexadecimal \")\n",
    "print(\"b. Decimal to Octal\")\n",
    "print(\"c. Decimal to Binary\")\n",
    "\n",
    "# taking user input\n",
    "print(\"Enter your choice :- \")\n",
    "choice = input()\n",
    "\n",
    "# Running a variable choice\n",
    "# Hexadecimal form if choice\n",
    "# is set to 'a'\n",
    "if choice is 'a':\n",
    "\n",
    "\t# lstrip helps remove \"0x\" from the left\n",
    "\t# rstrip helps remove \"L\" from the right,\n",
    "\t# L represents a long number\n",
    "\tprint(\"Hexadecimal form of \" + str(number) +\n",
    "\t\t\" is \" + hex(number).lstrip(\"0x\").rstrip(\"L\"))\n",
    "\t\t\n",
    "if choice is 'b':\n",
    "\t\n",
    "\t# Octal representation is done\n",
    "\t# by adding a prefix \"0o\"\n",
    "\tprint(\"Octal form of \" + str(number) +\n",
    "\t\t\" is \" + oct(number).lstrip(\"0o\").rstrip(\"L\"))\n",
    "\t\t\n",
    "if choice is 'c':\n",
    "\t\n",
    "\t# Binary representation is done by\n",
    "\t# the addition of prefix \"0b\"\n",
    "\tprint(\"Binary form of \" + str(number) +\n",
    "\t\t\" is \"+bin(number).lstrip(\"0b\").rstrip(\"L\"))\n"
   ]
  },
  {
   "attachments": {},
   "cell_type": "markdown",
   "metadata": {},
   "source": [
    "Q. Create a lambda function take an argument as a list and should return the average of the complete list"
   ]
  },
  {
   "cell_type": "code",
   "execution_count": null,
   "metadata": {},
   "outputs": [],
   "source": [
    "mylist=[{'name':'tushar','marks':[50,50,30,10,52]}, {'name':'Shashank','marks':[65,98,30,60,52]}]\n",
    "a= lambda x: sum(x)/len(x)\n",
    "\n",
    "def test(x):\n",
    "    for i in mylist:\n",
    "        print ('Avg:',a(i['marks']))\n",
    "\n",
    "test(mylist)"
   ]
  },
  {
   "attachments": {},
   "cell_type": "markdown",
   "metadata": {},
   "source": [
    "Q. Create a dictionary and value should contain the lambda function"
   ]
  },
  {
   "cell_type": "code",
   "execution_count": null,
   "metadata": {},
   "outputs": [],
   "source": [
    "dict1= {'func': lambda x: sum(x)/len(x)}\n",
    "\n",
    "for i in mylist:\n",
    "    print(dict1['func'](i['marks']))\n"
   ]
  },
  {
   "attachments": {},
   "cell_type": "markdown",
   "metadata": {},
   "source": [
    "enhance => Maximum and total marks of the candidates\n",
    "Input => sum, max, avg"
   ]
  },
  {
   "cell_type": "code",
   "execution_count": 1,
   "metadata": {},
   "outputs": [
    {
     "ename": "NameError",
     "evalue": "name 'dict1' is not defined",
     "output_type": "error",
     "traceback": [
      "\u001b[1;31m---------------------------------------------------------------------------\u001b[0m",
      "\u001b[1;31mNameError\u001b[0m                                 Traceback (most recent call last)",
      "Cell \u001b[1;32mIn[1], line 3\u001b[0m\n\u001b[0;32m      1\u001b[0m inp\u001b[39m=\u001b[39m\u001b[39minput\u001b[39m()\n\u001b[1;32m----> 3\u001b[0m \u001b[39mfor\u001b[39;00m j \u001b[39min\u001b[39;00m dict1:\n\u001b[0;32m      4\u001b[0m     \u001b[39mif\u001b[39;00m inp\u001b[39m==\u001b[39mj:\n\u001b[0;32m      5\u001b[0m         \u001b[39mfor\u001b[39;00m i \u001b[39min\u001b[39;00m mylist:\n",
      "\u001b[1;31mNameError\u001b[0m: name 'dict1' is not defined"
     ]
    }
   ],
   "source": [
    "inp=input()\n",
    "\n",
    "for j in dict1:\n",
    "    if inp==j:\n",
    "        for i in mylist:\n",
    "            print(i['name'],'-',dict1[inp](i['marks']))\n",
    "\n",
    "    else:\n",
    "        print('Wrong Input')\n",
    "        break\n"
   ]
  },
  {
   "cell_type": "markdown",
   "metadata": {},
   "source": []
  }
 ],
 "metadata": {
  "kernelspec": {
   "display_name": "Python 3",
   "language": "python",
   "name": "python3"
  },
  "language_info": {
   "codemirror_mode": {
    "name": "ipython",
    "version": 3
   },
   "file_extension": ".py",
   "mimetype": "text/x-python",
   "name": "python",
   "nbconvert_exporter": "python",
   "pygments_lexer": "ipython3",
   "version": "3.11.1"
  },
  "orig_nbformat": 4,
  "vscode": {
   "interpreter": {
    "hash": "4e88bdc4ffaf714f052ea44841663715f0f9ac30e2bb87c5afadf88925ae67cf"
   }
  }
 },
 "nbformat": 4,
 "nbformat_minor": 2
}
