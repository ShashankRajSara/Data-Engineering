{
 "cells": [
  {
   "attachments": {},
   "cell_type": "markdown",
   "metadata": {},
   "source": [
    "Q. Hexadecimal"
   ]
  },
  {
   "cell_type": "code",
   "execution_count": 38,
   "metadata": {},
   "outputs": [
    {
     "name": "stdout",
     "output_type": "stream",
     "text": [
      "a. Decimal to Hexadecimal \n",
      "b. Decimal to Octal\n",
      "c. Decimal to Binary\n",
      "Enter your choice :- \n",
      "Binary form of 500 is 111110100\n"
     ]
    }
   ],
   "source": [
    "# TypeConversion from decimal with base 10\n",
    "# to hexadecimal form with base 16\n",
    "\n",
    "\n",
    "# Taking input from user\n",
    "# an integer with base 10\n",
    "number = int(input(\"Enter a number with base 10\\n\"))\n",
    "\n",
    "# The choices present to the user\n",
    "print(\"a. Decimal to Hexadecimal \")\n",
    "print(\"b. Decimal to Octal\")\n",
    "print(\"c. Decimal to Binary\")\n",
    "\n",
    "# taking user input\n",
    "print(\"Enter your choice :- \")\n",
    "choice = input()\n",
    "\n",
    "# Running a variable choice\n",
    "# Hexadecimal form if choice\n",
    "# is set to 'a'\n",
    "if choice == 'a':\n",
    "\n",
    "\t# lstrip helps remove \"0x\" from the left\n",
    "\t# rstrip helps remove \"L\" from the right,\n",
    "\t# L represents a long number\n",
    "\tprint(\"Hexadecimal form of \" + str(number) +\n",
    "\t\t\" is \" + hex(number).lstrip(\"0x\").rstrip(\"L\"))\n",
    "\t\t\n",
    "if choice == 'b':\n",
    "\t\n",
    "\t# Octal representation is done\n",
    "\t# by adding a prefix \"0o\"\n",
    "\tprint(\"Octal form of \" + str(number) +\n",
    "\t\t\" is \" + oct(number).lstrip(\"0o\").rstrip(\"L\"))\n",
    "\t\t\n",
    "if choice == 'c':\n",
    "\t\n",
    "\t# Binary representation is done by\n",
    "\t# the addition of prefix \"0b\"\n",
    "\tprint(\"Binary form of \" + str(number) +\n",
    "\t\t\" is \"+bin(number).lstrip(\"0b\").rstrip(\"L\"))\n"
   ]
  },
  {
   "attachments": {},
   "cell_type": "markdown",
   "metadata": {},
   "source": [
    "Q. Create a lambda function take an argument as a list and should return the average of the complete list"
   ]
  },
  {
   "cell_type": "code",
   "execution_count": 39,
   "metadata": {},
   "outputs": [
    {
     "name": "stdout",
     "output_type": "stream",
     "text": [
      "Avg: 38.4\n",
      "Avg: 61.0\n"
     ]
    }
   ],
   "source": [
    "mylist=[{'name':'tushar','marks':[50,50,30,10,52]}, {'name':'Shashank','marks':[65,98,30,60,52]}]\n",
    "a= lambda x: sum(x)/len(x)\n",
    "\n",
    "def test(x):\n",
    "    for i in mylist:\n",
    "        print ('Avg:',a(i['marks']))\n",
    "\n",
    "test(mylist)"
   ]
  },
  {
   "attachments": {},
   "cell_type": "markdown",
   "metadata": {},
   "source": [
    "Q. Create a dictionary and value should contain the lambda function"
   ]
  },
  {
   "cell_type": "code",
   "execution_count": 40,
   "metadata": {},
   "outputs": [
    {
     "name": "stdout",
     "output_type": "stream",
     "text": [
      "38.4\n",
      "61.0\n"
     ]
    }
   ],
   "source": [
    "dict1= {'func': lambda x: sum(x)/len(x)}\n",
    "\n",
    "for i in mylist:\n",
    "    print(dict1['func'](i['marks']))\n",
    "\n"
   ]
  },
  {
   "attachments": {},
   "cell_type": "markdown",
   "metadata": {},
   "source": [
    "enhance => Maximum and total marks of the candidates\n",
    "Input => sum, max, avg"
   ]
  },
  {
   "cell_type": "code",
   "execution_count": 41,
   "metadata": {},
   "outputs": [
    {
     "name": "stdout",
     "output_type": "stream",
     "text": [
      "Wrong Input\n"
     ]
    }
   ],
   "source": [
    "inp=input()\n",
    "\n",
    "for j in dict1:\n",
    "    if inp==j:\n",
    "        for i in mylist:\n",
    "            print(i['name'],'-',dict1[inp](i['marks']))\n",
    "\n",
    "    else:\n",
    "        print('Wrong Input')\n",
    "        break\n"
   ]
  },
  {
   "cell_type": "markdown",
   "metadata": {},
   "source": []
  },
  {
   "cell_type": "code",
   "execution_count": 42,
   "metadata": {},
   "outputs": [
    {
     "name": "stdout",
     "output_type": "stream",
     "text": [
      "['Shashank\\n', 'Ram\\n', 'krishna']\n"
     ]
    }
   ],
   "source": [
    "with open('filehandling/futurense.txt', 'r+') as fileobj:\n",
    "    data=fileobj.readlines()\n",
    "print(data)"
   ]
  },
  {
   "cell_type": "code",
   "execution_count": 43,
   "metadata": {},
   "outputs": [
    {
     "name": "stdout",
     "output_type": "stream",
     "text": [
      "Shashank\n",
      "\n",
      "Ram\n",
      "\n",
      "krishna\n"
     ]
    }
   ],
   "source": [
    "def rep(st):\n",
    "    return st.replace('\\n', '')\n",
    "\n",
    "a=[]\n",
    "for i in data:\n",
    "    print(i)\n",
    "    map(rep(i),data)\n",
    "\n",
    "\n"
   ]
  },
  {
   "attachments": {},
   "cell_type": "markdown",
   "metadata": {},
   "source": [
    "Q. Operator Overloading\n",
    "(10>5 => __gt__)\n",
    "Compare two objects obj1 and obj2"
   ]
  },
  {
   "cell_type": "code",
   "execution_count": 4,
   "metadata": {},
   "outputs": [
    {
     "name": "stdout",
     "output_type": "stream",
     "text": [
      "True\n"
     ]
    },
    {
     "data": {
      "text/plain": [
       "['__class__',\n",
       " '__delattr__',\n",
       " '__dict__',\n",
       " '__dir__',\n",
       " '__doc__',\n",
       " '__eq__',\n",
       " '__format__',\n",
       " '__ge__',\n",
       " '__getattribute__',\n",
       " '__getstate__',\n",
       " '__gt__',\n",
       " '__hash__',\n",
       " '__init__',\n",
       " '__init_subclass__',\n",
       " '__le__',\n",
       " '__lt__',\n",
       " '__module__',\n",
       " '__ne__',\n",
       " '__new__',\n",
       " '__reduce__',\n",
       " '__reduce_ex__',\n",
       " '__repr__',\n",
       " '__setattr__',\n",
       " '__sizeof__',\n",
       " '__str__',\n",
       " '__subclasshook__',\n",
       " '__weakref__',\n",
       " 'n1',\n",
       " 'n2']"
      ]
     },
     "execution_count": 4,
     "metadata": {},
     "output_type": "execute_result"
    }
   ],
   "source": [
    "class newClass:\n",
    "    def __init__(self, n1, n2):\n",
    "        self.n1 = n1\n",
    "        self.n2 = n2\n",
    "\n",
    "    def __str__(self):\n",
    "        return 'Successfully created'\n",
    "\n",
    "    def __gt__(self, obj2):\n",
    "        sq1=self.n1**2 + obj2.n1**2\n",
    "        sq2=self.n2**2 + obj2.n2**2\n",
    "        return not sq1>sq2\n",
    "\n",
    "nc1 = newClass(10,20)\n",
    "nc2 = newClass(5,7)\n",
    "\n",
    "print(nc1>nc2)\n",
    "dir(nc1)\n"
   ]
  }
 ],
 "metadata": {
  "kernelspec": {
   "display_name": "Python 3",
   "language": "python",
   "name": "python3"
  },
  "language_info": {
   "codemirror_mode": {
    "name": "ipython",
    "version": 3
   },
   "file_extension": ".py",
   "mimetype": "text/x-python",
   "name": "python",
   "nbconvert_exporter": "python",
   "pygments_lexer": "ipython3",
   "version": "3.11.1"
  },
  "orig_nbformat": 4,
  "vscode": {
   "interpreter": {
    "hash": "4e88bdc4ffaf714f052ea44841663715f0f9ac30e2bb87c5afadf88925ae67cf"
   }
  }
 },
 "nbformat": 4,
 "nbformat_minor": 2
}
