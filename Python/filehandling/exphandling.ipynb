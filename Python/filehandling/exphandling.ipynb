{
 "cells": [
  {
   "cell_type": "markdown",
   "metadata": {},
   "source": [
    "Demo"
   ]
  },
  {
   "cell_type": "code",
   "execution_count": 10,
   "metadata": {},
   "outputs": [
    {
     "name": "stdout",
     "output_type": "stream",
     "text": [
      "The file 'C:\\Users\\Miles\\Documents\\Futurense\\Python\\filehandling\\futrense.txt' does not exist\n",
      "Alternate File Opened\n",
      "File Closed\n"
     ]
    }
   ],
   "source": [
    "txtFile= None\n",
    "filePath = r'C:\\Users\\Miles\\Documents\\Futurense\\Python\\filehandling\\futrense.txt'\n",
    "alFilePath = r'C:\\Users\\Miles\\Documents\\Futurense\\Python\\filehandling\\futurense.txt'\n",
    "\n",
    "\n",
    "try:\n",
    "    txtFile=open(filePath)\n",
    "    print('File Opened')\n",
    "\n",
    "except FileNotFoundError as fnfEx:\n",
    "    print(\"The file '\"+filePath+\"' does not exist\")\n",
    "\n",
    "    try:\n",
    "        txtFile=open(alFilePath)\n",
    "        print('Alternate File Opened')\n",
    "    except:\n",
    "        print(\"The file '\"+alFilePath+\"' does not exist\")\n",
    "except IOError:\n",
    "    print(\"Could not open file '\"+filePath+\"'\")\n",
    "\n",
    "except Exception:\n",
    "    print(\"Contact the administrator\")\n",
    "\n",
    "\n",
    "finally:\n",
    "    if txtFile is not None:\n",
    "        txtFile.close()\n",
    "        print('File Closed')\n",
    "\n"
   ]
  },
  {
   "cell_type": "code",
   "execution_count": null,
   "metadata": {},
   "outputs": [],
   "source": []
  }
 ],
 "metadata": {
  "kernelspec": {
   "display_name": "Python 3",
   "language": "python",
   "name": "python3"
  },
  "language_info": {
   "codemirror_mode": {
    "name": "ipython",
    "version": 3
   },
   "file_extension": ".py",
   "mimetype": "text/x-python",
   "name": "python",
   "nbconvert_exporter": "python",
   "pygments_lexer": "ipython3",
   "version": "3.10.9"
  },
  "orig_nbformat": 4,
  "vscode": {
   "interpreter": {
    "hash": "478c252231dfe006bc6f75e9071afe2d2dd3e9fa01c3c124e4bb74b28e07e18a"
   }
  }
 },
 "nbformat": 4,
 "nbformat_minor": 2
}
