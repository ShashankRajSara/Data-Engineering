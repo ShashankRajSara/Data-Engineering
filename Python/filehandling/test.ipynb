{
 "cells": [
  {
   "cell_type": "code",
   "execution_count": 1,
   "metadata": {},
   "outputs": [
    {
     "name": "stdout",
     "output_type": "stream",
     "text": [
      "[[0, 0, 0], [0, 0, 1], [0, 1, 0], [0, 1, 2], [0, 2, 1], [0, 2, 2], [1, 0, 0], [1, 0, 2], [1, 1, 1], [1, 1, 2], [1, 2, 0], [1, 2, 1], [1, 2, 2], [2, 0, 1], [2, 0, 2], [2, 1, 0], [2, 1, 1], [2, 1, 2], [2, 2, 0], [2, 2, 1], [2, 2, 2]]\n"
     ]
    }
   ],
   "source": [
    "x,y,z,n = 2,2,2,2\n",
    "result = [[i,j, k] for i in range(x+1) for j in range(y+1) for k in range(z+1) if (i+j+k) != n]\n",
    "print(result)"
   ]
  },
  {
   "cell_type": "code",
   "execution_count": 6,
   "metadata": {},
   "outputs": [
    {
     "data": {
      "text/plain": [
       "[0, 1, 2, 3, 4, 5, 6, 7, 8, 9]"
      ]
     },
     "execution_count": 6,
     "metadata": {},
     "output_type": "execute_result"
    }
   ],
   "source": [
    "num = [i for i in range(10)]\n",
    "num"
   ]
  },
  {
   "cell_type": "code",
   "execution_count": 27,
   "metadata": {},
   "outputs": [
    {
     "name": "stdout",
     "output_type": "stream",
     "text": [
      "70.0\n"
     ]
    }
   ],
   "source": [
    "dictNew = {'shashank':[10,50,30], 'Ram': [50,90,70]}\n",
    "n='Ram'\n",
    "\n",
    "for i in dictNew:\n",
    "    if n in i:\n",
    "        print(round(sum(dictNew[i])/len(dictNew[i]),2))"
   ]
  },
  {
   "cell_type": "code",
   "execution_count": 1,
   "metadata": {},
   "outputs": [],
   "source": [
    "class Person:\n",
    "    def __init__(self,name,age):\n",
    "        self.name = name\n",
    "        self.age = age\n",
    "\n",
    "    def getFirstName(self):\n",
    "        return self.name.split(' ')[0]\n",
    "\n",
    "    def getLastName(self):\n",
    "        return self.name.split(' ')[-1]\n",
    "\n",
    "    def getAge(self):\n",
    "        if self.age <18:\n",
    "            return 'child'\n",
    "        elif self.age >= 18 and self.age<60:\n",
    "            return 'Adult'\n",
    "        else:\n",
    "            return 'Senior Citizen'\n"
   ]
  },
  {
   "cell_type": "code",
   "execution_count": 5,
   "metadata": {},
   "outputs": [
    {
     "data": {
      "text/plain": [
       "'Shashank'"
      ]
     },
     "execution_count": 5,
     "metadata": {},
     "output_type": "execute_result"
    }
   ],
   "source": [
    "person1 = Person('Shashank',50)\n",
    "person1.getAge()    \n",
    "person1.getLastName()"
   ]
  },
  {
   "attachments": {},
   "cell_type": "markdown",
   "metadata": {},
   "source": [
    "Exception Handling"
   ]
  },
  {
   "cell_type": "code",
   "execution_count": 14,
   "metadata": {},
   "outputs": [
    {
     "name": "stdout",
     "output_type": "stream",
     "text": [
      "Invalid..\n"
     ]
    }
   ],
   "source": [
    "name = input('Enter Name: ')\n",
    "\n",
    "\n",
    "while True:\n",
    "    try:\n",
    "        age = int(input('Enter Age: '))\n",
    "        if age<0:\n",
    "            raise Exception(\"Age Should be greater than zero, Try Again..\")\n",
    "        break\n",
    "    except:\n",
    "        print('Invalid..')\n",
    "\n",
    "\n"
   ]
  },
  {
   "cell_type": "code",
   "execution_count": null,
   "metadata": {},
   "outputs": [],
   "source": []
  },
  {
   "attachments": {},
   "cell_type": "markdown",
   "metadata": {},
   "source": [
    "- Date Check"
   ]
  },
  {
   "cell_type": "code",
   "execution_count": 1,
   "metadata": {},
   "outputs": [
    {
     "name": "stdout",
     "output_type": "stream",
     "text": [
      "Invalid Date\n"
     ]
    }
   ],
   "source": [
    "import datetime\n",
    "\n",
    "try:\n",
    "    while True:\n",
    "        year=int(input(\"Enter year: \"))\n",
    "        month=int(input(\"Enter month: \"))\n",
    "        day=int(input(\"Enter day: \"))\n",
    "\n",
    "        if year<1900:\n",
    "            raise Exception(\"Year must be after 1900\")\n",
    "            pass\n",
    "        elif year>2023 and month>1 and day>24:\n",
    "            raise Exception(\"Date must be less than today\")\n",
    "            pass\n",
    "        else:\n",
    "            nDate = datetime.datetime(year,month,day)\n",
    "            print('Date is Valid')\n",
    "            break\n",
    "\n",
    "except:\n",
    "    print('Invalid Date')\n"
   ]
  },
  {
   "cell_type": "code",
   "execution_count": 57,
   "metadata": {},
   "outputs": [],
   "source": [
    "class Person:\n",
    "    def __init__(self,fname,lname,age):\n",
    "        self.fname = fname\n",
    "        self.lname = lname\n",
    "        self.age = age\n",
    "        \n",
    "    def getFullName(self):\n",
    "        print('Full Name: ',self.fname,self.lname)\n",
    "\n",
    "\n",
    "class Student(Person):\n",
    "    def __init__(self, fname,lname,age,regNo,maths,science,english):\n",
    "        self.fname = fname\n",
    "        self.lname = lname\n",
    "        self.age = age\n",
    "        self.regNo = regNo\n",
    "        self.maths = maths\n",
    "        self.science =science\n",
    "        self.english = english\n",
    "\n",
    "    def getTotalMarks(self):\n",
    "        print('Total Marks: ',self.maths+self.science+self.english)\n",
    "\n",
    "class Teacher(Person):\n",
    "\n",
    "    def __init__(self,fname,lname,age,subjects):\n",
    "        self.fname = fname\n",
    "        self.lname = lname\n",
    "        self.subjects = subjects\n",
    "\n",
    "    def getSubjects(self):\n",
    "        for i in self.subjects:\n",
    "            print(i)\n",
    "\n",
    "class HOD(Teacher):\n",
    "    def __init__(self, fname, lname, age, dept):\n",
    "        self.fname = fname\n",
    "        self.lname = lname\n",
    "        self.age = age\n",
    "        self.dept = dept\n",
    "\n",
    "    def getAllTeachersInDept(self,subject):\n",
    "        if self.dept==subject:\n",
    "            print()\n",
    "\n",
    "\n",
    "    "
   ]
  },
  {
   "cell_type": "code",
   "execution_count": 73,
   "metadata": {},
   "outputs": [
    {
     "name": "stdout",
     "output_type": "stream",
     "text": [
      "Maths\n",
      "RAJU\n",
      "Science\n",
      "Krishna\n",
      "Sai\n",
      "English\n",
      "Shashank\n"
     ]
    }
   ],
   "source": [
    "# person1=Person('Shashank','Raj',23)\n",
    "# person1.getFullName()\n",
    "\n",
    "# Student1=Student('Shashank','Raj',23,125,90,80,50)\n",
    "# Student1.getFullName()\n",
    "# Student1.getTotalMarks()\n",
    "\n",
    "\n",
    "Teacher1=Teacher('Shashank','Raj',23,['Maths','English'])\n",
    "Teacher2=Teacher('Ram','Raj',23,['Science','English'])\n",
    "Teacher3=Teacher('RAJU','Kumar',23,['Maths'])\n",
    "Teacher4=Teacher('Krishna','Kumar',23,['Science'])\n",
    "Teacher5=Teacher('Sai','Kumar',23,['Science'])\n",
    "\n",
    "teacherlist=[Teacher1,Teacher2,Teacher3,Teacher4,Teacher5]\n",
    "\n",
    "HOD1=HOD('Shashank','Raj',23,'Maths')\n",
    "HOD2=HOD('Sai','Kumar',23,'Science')\n",
    "HOD3=HOD('Ram','Raj',23,'English')\n",
    "\n",
    "hodlist=[HOD1,HOD2,HOD3]\n",
    "\n",
    "# Teacher1.getFullName()\n",
    "# Teacher1.getSubjects()\n",
    "\n",
    "\n",
    "for i in hodlist:\n",
    "    print(i.dept)\n",
    "    for j in teacherlist:\n",
    "        if i.dept in j.subjects and i.fname!=j.fname:\n",
    "            print(j.fname)\n",
    "        else:\n",
    "            pass"
   ]
  },
  {
   "attachments": {},
   "cell_type": "markdown",
   "metadata": {},
   "source": [
    "- new"
   ]
  },
  {
   "cell_type": "code",
   "execution_count": null,
   "metadata": {},
   "outputs": [],
   "source": []
  }
 ],
 "metadata": {
  "kernelspec": {
   "display_name": "Python 3",
   "language": "python",
   "name": "python3"
  },
  "language_info": {
   "codemirror_mode": {
    "name": "ipython",
    "version": 3
   },
   "file_extension": ".py",
   "mimetype": "text/x-python",
   "name": "python",
   "nbconvert_exporter": "python",
   "pygments_lexer": "ipython3",
   "version": "3.10.9"
  },
  "orig_nbformat": 4,
  "vscode": {
   "interpreter": {
    "hash": "478c252231dfe006bc6f75e9071afe2d2dd3e9fa01c3c124e4bb74b28e07e18a"
   }
  }
 },
 "nbformat": 4,
 "nbformat_minor": 2
}
