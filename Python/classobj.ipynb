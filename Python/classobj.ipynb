{
 "cells": [
  {
   "cell_type": "code",
   "execution_count": 9,
   "metadata": {},
   "outputs": [],
   "source": [
    "class customer:\n",
    "    def __init__(self,id,firstName,lastName, email,phone) -> None:\n",
    "        self.id = id\n",
    "        self.firstName = firstName\n",
    "        self.lastName = lastName\n",
    "        self.email = email\n",
    "        self.phone = phone\n",
    "\n",
    "        a='Shashi'\n",
    "\n",
    "    def getCustomerByName(self,FirstName,customer,*lastName):\n",
    "        for i in customer:\n",
    "            if i.firstName==FirstName:\n",
    "                return i.email\n",
    "\n",
    "    def getCustomerByPhone(self,phone,customer) -> None:\n",
    "        for i in customer:\n",
    "            if i.phone==phone:\n",
    "                return i.firstName\n",
    "\n",
    "\n",
    "    def getCustomerByEmail(self,email,customer):\n",
    "        for i in customer:\n",
    "            if i.email==email:\n",
    "                return i.firstName\n",
    "\n"
   ]
  },
  {
   "cell_type": "code",
   "execution_count": 10,
   "metadata": {},
   "outputs": [],
   "source": [
    "cust1=customer(651,'Shashank','Raj','shashank@gmail.com','561456541')\n",
    "cust2=customer(56145,'Shashi','Rao','shashi@gmail.com','6546514651')\n",
    "cust3=customer(351,'Ram','Raj','shashi@gmail.com','6561532')\n",
    "cust4=customer(654,'Krishna','Reddy','shashank@gmail.com','6548651465')\n",
    "\n",
    "customers=[cust1,cust2,cust3,cust4]"
   ]
  },
  {
   "cell_type": "code",
   "execution_count": 11,
   "metadata": {},
   "outputs": [
    {
     "name": "stdout",
     "output_type": "stream",
     "text": [
      "shashank@gmail.com\n",
      "Shashi\n"
     ]
    }
   ],
   "source": [
    "print(cust1.getCustomerByName('Shashank',customers))\n",
    "print(cust1.getCustomerByEmail('shashi@gmail.com',customers))"
   ]
  },
  {
   "cell_type": "code",
   "execution_count": 5,
   "metadata": {},
   "outputs": [
    {
     "name": "stdout",
     "output_type": "stream",
     "text": [
      "101\n",
      "101\n"
     ]
    }
   ],
   "source": [
    "class Futurense:\n",
    "    id = 101\n",
    "    name = \"Shashank\"\n",
    "\n",
    "n = Futurense()\n",
    "\n",
    "print(n.id)\n",
    "\n"
   ]
  },
  {
   "cell_type": "code",
   "execution_count": 11,
   "metadata": {},
   "outputs": [
    {
     "name": "stdout",
     "output_type": "stream",
     "text": [
      "<class '__main__.Futurense'>\n",
      "<__main__.Futurense object at 0x0000020D11C8CAC0>\n"
     ]
    },
    {
     "data": {
      "text/plain": [
       "2255073971568"
      ]
     },
     "execution_count": 11,
     "metadata": {},
     "output_type": "execute_result"
    }
   ],
   "source": [
    "# 2 instance var with id & firstname\n",
    "\n",
    "class Futurense:\n",
    "    def __init__(self,id,name):\n",
    "        self.id = id\n",
    "        self.name = name\n",
    "\n",
    "n = Futurense(101,'Shashank')\n",
    "\n",
    "print(Futurense)\n",
    "print(n)\n",
    "id(n.id)"
   ]
  },
  {
   "attachments": {},
   "cell_type": "markdown",
   "metadata": {},
   "source": [
    "Polymorphism"
   ]
  },
  {
   "cell_type": "code",
   "execution_count": 11,
   "metadata": {},
   "outputs": [
    {
     "name": "stdout",
     "output_type": "stream",
     "text": [
      "This is a Student class\n",
      "This is a Hobbies class\n"
     ]
    }
   ],
   "source": [
    "class Student:\n",
    "    def studentInfo(self):\n",
    "        print(\"This is a Student class\")\n",
    "\n",
    "class StudentHobbies(Student):\n",
    "    def studentInfo(self):\n",
    "        print(\"This is a Hobbies class\")\n",
    "\n",
    "s1 = Student()\n",
    "s1.studentInfo()\n",
    "\n",
    "\n",
    "#Method Overriding\n",
    "sh1 = StudentHobbies()\n",
    "sh1.studentInfo()"
   ]
  },
  {
   "attachments": {},
   "cell_type": "markdown",
   "metadata": {},
   "source": [
    "Operator Overloading"
   ]
  },
  {
   "cell_type": "code",
   "execution_count": 19,
   "metadata": {},
   "outputs": [
    {
     "name": "stdout",
     "output_type": "stream",
     "text": [
      "The  Data we have for the object is 10 20  \n",
      "The  Data we have for the object is 30 40  \n",
      "The  Data we have for the object is 40 60  \n"
     ]
    }
   ],
   "source": [
    "class Futurense:\n",
    "    def __init__(self,num1,num2):\n",
    "        self.num1 = num1\n",
    "        self.num2 = num2\n",
    "\n",
    "    def __str__(self):\n",
    "        return \"The  Data we have for the object is {0} {1}  \".format(self.num1,self.num2)\n",
    "\n",
    "    #Operator Overloading \n",
    "    def __add__(self,obj2):\n",
    "        num1=self.num1 + obj2.num1\n",
    "        num2=self.num2 + obj2.num2\n",
    "\n",
    "        return Futurense(num1,num2)\n",
    "\n",
    "f1= Futurense(10,20)\n",
    "print(f1)\n",
    "\n",
    "f2 = Futurense(30,40)\n",
    "print(f2)\n",
    "\n",
    "print(f1+f2)"
   ]
  },
  {
   "attachments": {},
   "cell_type": "markdown",
   "metadata": {},
   "source": [
    "Abstraction"
   ]
  },
  {
   "cell_type": "code",
   "execution_count": 51,
   "metadata": {},
   "outputs": [],
   "source": [
    "from abc import ABC, abstractmethod\n",
    "\n",
    "class Department(ABC):\n",
    "    global salary\n",
    "    salary = 10000\n",
    "\n",
    "    @abstractmethod\n",
    "    def departmentInfo(self):\n",
    "        pass\n",
    "\n",
    "    @abstractmethod\n",
    "    def departmentname(self):\n",
    "        pass\n",
    "\n",
    "class MarketingDepartment(Department):\n",
    "    salary = 2000\n",
    "\n",
    "    def departmentInfo(self):\n",
    "        print(\"Department: \" + str(self.salary))\n",
    "\n",
    "    def departmentname(self):\n",
    "        return \"MarketingDepartment\" + str(self)\n",
    "\n",
    "    @abstractmethod\n",
    "    def newDepartment(self):\n",
    "        pass\n",
    "\n",
    "# m1= MarketingDepartment()\n",
    "# print(m1.salary)\n",
    "# m1.departmentInfo()\n",
    "\n",
    "class HRDepartment(MarketingDepartment):\n",
    "    def newDepartment(self):\n",
    "        return \"newDepartment()\"\n",
    "\n",
    "hr1 = HRDepartment()\n",
    "\n",
    "hr1.\n",
    "\n",
    "\n"
   ]
  },
  {
   "cell_type": "code",
   "execution_count": null,
   "metadata": {},
   "outputs": [],
   "source": []
  }
 ],
 "metadata": {
  "kernelspec": {
   "display_name": "Python 3",
   "language": "python",
   "name": "python3"
  },
  "language_info": {
   "codemirror_mode": {
    "name": "ipython",
    "version": 3
   },
   "file_extension": ".py",
   "mimetype": "text/x-python",
   "name": "python",
   "nbconvert_exporter": "python",
   "pygments_lexer": "ipython3",
   "version": "3.10.9"
  },
  "orig_nbformat": 4,
  "vscode": {
   "interpreter": {
    "hash": "478c252231dfe006bc6f75e9071afe2d2dd3e9fa01c3c124e4bb74b28e07e18a"
   }
  }
 },
 "nbformat": 4,
 "nbformat_minor": 2
}
