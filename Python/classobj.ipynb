{
 "cells": [
  {
   "cell_type": "code",
   "execution_count": 32,
   "metadata": {},
   "outputs": [],
   "source": [
    "class customer:\n",
    "    def __init__(self,id,firstName,lastName, email,phone) -> None:\n",
    "        self.id = id\n",
    "        self.firstName = firstName\n",
    "        self.lastName = lastName\n",
    "        self.email = email\n",
    "        self.phone = phone\n",
    "\n",
    "    def getCustomerByName(self,FirstName,customer,*lastName):\n",
    "        for i in customer:\n",
    "            if i.firstName==FirstName:\n",
    "                return i.email\n",
    "\n",
    "    def getCustomerByPhone(self,phone,customer) -> None:\n",
    "        for i in customer:\n",
    "            if i.phone==phone:\n",
    "                return i.firstName\n",
    "\n",
    "\n",
    "    def getCustomerByEmail(self,email,customer):\n",
    "        for i in customer:\n",
    "            if i.email==email:\n",
    "                return i.firstName\n",
    "\n"
   ]
  },
  {
   "cell_type": "code",
   "execution_count": 35,
   "metadata": {},
   "outputs": [],
   "source": [
    "cust1=customer(651,'Shashank','Raj','shashank@gmail.com','561456541')\n",
    "cust2=customer(56145,'Shashi','Rao','shashi@gmail.com','6546514651')\n",
    "cust3=customer(351,'Ram','Raj','shashi@gmail.com','6561532')\n",
    "cust4=customer(654,'Krishna','Reddy','shashank@gmail.com','6548651465')\n",
    "\n",
    "customers=[cust1,cust2,cust3,cust4]"
   ]
  },
  {
   "cell_type": "code",
   "execution_count": 36,
   "metadata": {},
   "outputs": [
    {
     "name": "stdout",
     "output_type": "stream",
     "text": [
      "shashank@gmail.com\n",
      "Shashi\n"
     ]
    }
   ],
   "source": [
    "print(cust1.getCustomerByName('Shashank',customers))\n",
    "print(cust1.getCustomerByEmail('shashi@gmail.com',customers))"
   ]
  },
  {
   "cell_type": "code",
   "execution_count": null,
   "metadata": {},
   "outputs": [],
   "source": []
  }
 ],
 "metadata": {
  "kernelspec": {
   "display_name": "Python 3",
   "language": "python",
   "name": "python3"
  },
  "language_info": {
   "codemirror_mode": {
    "name": "ipython",
    "version": 3
   },
   "file_extension": ".py",
   "mimetype": "text/x-python",
   "name": "python",
   "nbconvert_exporter": "python",
   "pygments_lexer": "ipython3",
   "version": "3.10.9 (tags/v3.10.9:1dd9be6, Dec  6 2022, 20:01:21) [MSC v.1934 64 bit (AMD64)]"
  },
  "orig_nbformat": 4,
  "vscode": {
   "interpreter": {
    "hash": "478c252231dfe006bc6f75e9071afe2d2dd3e9fa01c3c124e4bb74b28e07e18a"
   }
  }
 },
 "nbformat": 4,
 "nbformat_minor": 2
}
