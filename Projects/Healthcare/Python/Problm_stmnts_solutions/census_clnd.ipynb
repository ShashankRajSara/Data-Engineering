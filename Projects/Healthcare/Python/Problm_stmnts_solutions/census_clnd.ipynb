{
 "cells": [
  {
   "cell_type": "markdown",
   "metadata": {},
   "source": [
    "## Clean the Census data"
   ]
  },
  {
   "attachments": {},
   "cell_type": "markdown",
   "metadata": {},
   "source": [
    "### Problem Statement 1: (Keep the relevant data)"
   ]
  },
  {
   "cell_type": "code",
   "execution_count": 1,
   "metadata": {},
   "outputs": [],
   "source": [
    "# The census 2011 file contains many fields, which we may not use. Remove some columns so\n",
    "# that we are left with only relevant data.\n",
    "\n",
    "# We may need the following columns.\n",
    "# State name\n",
    "# District name\n",
    "# Population\n",
    "# Male\n",
    "# Female\n",
    "# Literate\n",
    "# Male_Literate\n",
    "# Female_Literate\n",
    "# Rural_Households\n",
    "# Urban_Households\n",
    "# Households\n",
    "# Age_Group_0_29\n",
    "# Age_Group_30_49\n",
    "# Age_Group_50\n",
    "# Age not stated\n",
    "# Import the data to pandas and keep only the required columns."
   ]
  },
  {
   "cell_type": "code",
   "execution_count": 2,
   "metadata": {},
   "outputs": [],
   "source": [
    "import pandas as pd\n",
    "import numpy as np\n",
    "import matplotlib.pyplot as plt"
   ]
  },
  {
   "cell_type": "code",
   "execution_count": 3,
   "metadata": {},
   "outputs": [
    {
     "data": {
      "text/html": [
       "<div>\n",
       "<style scoped>\n",
       "    .dataframe tbody tr th:only-of-type {\n",
       "        vertical-align: middle;\n",
       "    }\n",
       "\n",
       "    .dataframe tbody tr th {\n",
       "        vertical-align: top;\n",
       "    }\n",
       "\n",
       "    .dataframe thead th {\n",
       "        text-align: right;\n",
       "    }\n",
       "</style>\n",
       "<table border=\"1\" class=\"dataframe\">\n",
       "  <thead>\n",
       "    <tr style=\"text-align: right;\">\n",
       "      <th></th>\n",
       "      <th>State name</th>\n",
       "      <th>District name</th>\n",
       "      <th>Population</th>\n",
       "      <th>Male</th>\n",
       "      <th>Female</th>\n",
       "      <th>Literate</th>\n",
       "      <th>Male_Literate</th>\n",
       "      <th>Female_Literate</th>\n",
       "      <th>Rural_Households</th>\n",
       "      <th>Urban_Households</th>\n",
       "      <th>Households</th>\n",
       "      <th>Age_Group_0_29</th>\n",
       "      <th>Age_Group_30_49</th>\n",
       "      <th>Age_Group_50</th>\n",
       "      <th>Age not stated</th>\n",
       "    </tr>\n",
       "  </thead>\n",
       "  <tbody>\n",
       "    <tr>\n",
       "      <th>0</th>\n",
       "      <td>JAMMU AND KASHMIR</td>\n",
       "      <td>Kupwara</td>\n",
       "      <td>870354.0</td>\n",
       "      <td>474190.0</td>\n",
       "      <td>396164.0</td>\n",
       "      <td>439654.0</td>\n",
       "      <td>282823.0</td>\n",
       "      <td>156831.0</td>\n",
       "      <td>158438.0</td>\n",
       "      <td>NaN</td>\n",
       "      <td>181664.0</td>\n",
       "      <td>600759.0</td>\n",
       "      <td>178435.0</td>\n",
       "      <td>89679.0</td>\n",
       "      <td>1481.0</td>\n",
       "    </tr>\n",
       "    <tr>\n",
       "      <th>1</th>\n",
       "      <td>JAMMU AND KASHMIR</td>\n",
       "      <td>Badgam</td>\n",
       "      <td>753745.0</td>\n",
       "      <td>NaN</td>\n",
       "      <td>355704.0</td>\n",
       "      <td>335649.0</td>\n",
       "      <td>207741.0</td>\n",
       "      <td>127908.0</td>\n",
       "      <td>160649.0</td>\n",
       "      <td>27190.0</td>\n",
       "      <td>187839.0</td>\n",
       "      <td>503223.0</td>\n",
       "      <td>160933.0</td>\n",
       "      <td>88978.0</td>\n",
       "      <td>611.0</td>\n",
       "    </tr>\n",
       "    <tr>\n",
       "      <th>2</th>\n",
       "      <td>JAMMU AND KASHMIR</td>\n",
       "      <td>Leh(Ladakh)</td>\n",
       "      <td>133487.0</td>\n",
       "      <td>78971.0</td>\n",
       "      <td>54516.0</td>\n",
       "      <td>93770.0</td>\n",
       "      <td>62834.0</td>\n",
       "      <td>30936.0</td>\n",
       "      <td>36920.0</td>\n",
       "      <td>17474.0</td>\n",
       "      <td>54394.0</td>\n",
       "      <td>70703.0</td>\n",
       "      <td>41515.0</td>\n",
       "      <td>NaN</td>\n",
       "      <td>250.0</td>\n",
       "    </tr>\n",
       "    <tr>\n",
       "      <th>3</th>\n",
       "      <td>JAMMU AND KASHMIR</td>\n",
       "      <td>Kargil</td>\n",
       "      <td>140802.0</td>\n",
       "      <td>NaN</td>\n",
       "      <td>63017.0</td>\n",
       "      <td>NaN</td>\n",
       "      <td>56301.0</td>\n",
       "      <td>29935.0</td>\n",
       "      <td>40370.0</td>\n",
       "      <td>7774.0</td>\n",
       "      <td>48144.0</td>\n",
       "      <td>87532.0</td>\n",
       "      <td>35561.0</td>\n",
       "      <td>17488.0</td>\n",
       "      <td>221.0</td>\n",
       "    </tr>\n",
       "    <tr>\n",
       "      <th>4</th>\n",
       "      <td>JAMMU AND KASHMIR</td>\n",
       "      <td>Punch</td>\n",
       "      <td>NaN</td>\n",
       "      <td>251899.0</td>\n",
       "      <td>224936.0</td>\n",
       "      <td>261724.0</td>\n",
       "      <td>163333.0</td>\n",
       "      <td>98391.0</td>\n",
       "      <td>132139.0</td>\n",
       "      <td>15269.0</td>\n",
       "      <td>147408.0</td>\n",
       "      <td>304979.0</td>\n",
       "      <td>109818.0</td>\n",
       "      <td>61334.0</td>\n",
       "      <td>704.0</td>\n",
       "    </tr>\n",
       "  </tbody>\n",
       "</table>\n",
       "</div>"
      ],
      "text/plain": [
       "          State name District name  Population      Male    Female  Literate  \\\n",
       "0  JAMMU AND KASHMIR       Kupwara    870354.0  474190.0  396164.0  439654.0   \n",
       "1  JAMMU AND KASHMIR        Badgam    753745.0       NaN  355704.0  335649.0   \n",
       "2  JAMMU AND KASHMIR   Leh(Ladakh)    133487.0   78971.0   54516.0   93770.0   \n",
       "3  JAMMU AND KASHMIR        Kargil    140802.0       NaN   63017.0       NaN   \n",
       "4  JAMMU AND KASHMIR         Punch         NaN  251899.0  224936.0  261724.0   \n",
       "\n",
       "   Male_Literate  Female_Literate  Rural_Households  Urban_Households  \\\n",
       "0       282823.0         156831.0          158438.0               NaN   \n",
       "1       207741.0         127908.0          160649.0           27190.0   \n",
       "2        62834.0          30936.0           36920.0           17474.0   \n",
       "3        56301.0          29935.0           40370.0            7774.0   \n",
       "4       163333.0          98391.0          132139.0           15269.0   \n",
       "\n",
       "   Households  Age_Group_0_29  Age_Group_30_49  Age_Group_50  Age not stated  \n",
       "0    181664.0        600759.0         178435.0       89679.0          1481.0  \n",
       "1    187839.0        503223.0         160933.0       88978.0           611.0  \n",
       "2     54394.0         70703.0          41515.0           NaN           250.0  \n",
       "3     48144.0         87532.0          35561.0       17488.0           221.0  \n",
       "4    147408.0        304979.0         109818.0       61334.0           704.0  "
      ]
     },
     "execution_count": 3,
     "metadata": {},
     "output_type": "execute_result"
    }
   ],
   "source": [
    "path = '../Data/census_2011.csv'\n",
    "requred_cols = [\n",
    "\"State name\",\n",
    "\"District name\",\n",
    "\"Population\",\n",
    "\"Male\",\n",
    "\"Female\",\n",
    "\"Literate\",\n",
    "\"Male_Literate\",\n",
    "\"Female_Literate\",\n",
    "\"Rural_Households\",\n",
    "\"Urban_Households\",\n",
    "\"Households\",\n",
    "\"Age_Group_0_29\",\n",
    "\"Age_Group_30_49\",\n",
    "\"Age_Group_50\",\n",
    "\"Age not stated\"\n",
    "]\n",
    "df_census11 = pd.read_csv(path,usecols=requred_cols)\n",
    "df_census11.head()"
   ]
  },
  {
   "cell_type": "code",
   "execution_count": null,
   "metadata": {},
   "outputs": [],
   "source": []
  },
  {
   "attachments": {},
   "cell_type": "markdown",
   "metadata": {},
   "source": [
    "### Problem Statement 2: (Rename the Column names)"
   ]
  },
  {
   "cell_type": "code",
   "execution_count": 4,
   "metadata": {},
   "outputs": [],
   "source": [
    "# For uniformity in the datasets and taking into consideration the census year, we need to\n",
    "# rename some columns.\n",
    "#  State name to State/UT\n",
    "#  District name to District\n",
    "#  Male_Literate to Literate_Male\n",
    "#  Female_Literate to Literate_Female\n",
    "#  Rural_Households to Households_Rural\n",
    "#  Urban_ Households to Households_Urban\n",
    "#  Age_Group_0_29 to Young_and_Adult\n",
    "#  Age_Group_30_49 to Middle_Aged\n",
    "#  Age_Group_50 to Senior_Citizen\n",
    "#  Age not stated to Age_Not_Stated"
   ]
  },
  {
   "cell_type": "code",
   "execution_count": null,
   "metadata": {},
   "outputs": [],
   "source": []
  },
  {
   "cell_type": "code",
   "execution_count": 5,
   "metadata": {},
   "outputs": [],
   "source": [
    "cols_dict = {\"State name\":\"State/UT\",\n",
    "            \"District name\":\"District\",\n",
    "            \"Male_Literate\":\"Literate_Male\",\n",
    "            \"Female_Literate\":\"Literate_Female\",\n",
    "            \"Rural_Households\":\"Households_Rural\",\n",
    "            \"Urban_ Households\":\"Households_Urban\",\n",
    "            \"Age_Group_0_29\":\"Young_and_Adult\",\n",
    "            \"Age_Group_30_49\":\"Middle_Aged\",\n",
    "            \"Age_Group_50\":\"Senior_Citizen\",\n",
    "            \"Age not stated\":\"Age_Not_Stated\"}"
   ]
  },
  {
   "cell_type": "code",
   "execution_count": 6,
   "metadata": {},
   "outputs": [
    {
     "data": {
      "text/html": [
       "<div>\n",
       "<style scoped>\n",
       "    .dataframe tbody tr th:only-of-type {\n",
       "        vertical-align: middle;\n",
       "    }\n",
       "\n",
       "    .dataframe tbody tr th {\n",
       "        vertical-align: top;\n",
       "    }\n",
       "\n",
       "    .dataframe thead th {\n",
       "        text-align: right;\n",
       "    }\n",
       "</style>\n",
       "<table border=\"1\" class=\"dataframe\">\n",
       "  <thead>\n",
       "    <tr style=\"text-align: right;\">\n",
       "      <th></th>\n",
       "      <th>State/UT</th>\n",
       "      <th>District</th>\n",
       "      <th>Population</th>\n",
       "      <th>Male</th>\n",
       "      <th>Female</th>\n",
       "      <th>Literate</th>\n",
       "      <th>Literate_Male</th>\n",
       "      <th>Literate_Female</th>\n",
       "      <th>Households_Rural</th>\n",
       "      <th>Urban_Households</th>\n",
       "      <th>Households</th>\n",
       "      <th>Young_and_Adult</th>\n",
       "      <th>Middle_Aged</th>\n",
       "      <th>Senior_Citizen</th>\n",
       "      <th>Age_Not_Stated</th>\n",
       "    </tr>\n",
       "  </thead>\n",
       "  <tbody>\n",
       "    <tr>\n",
       "      <th>0</th>\n",
       "      <td>JAMMU AND KASHMIR</td>\n",
       "      <td>Kupwara</td>\n",
       "      <td>870354.0</td>\n",
       "      <td>474190.0</td>\n",
       "      <td>396164.0</td>\n",
       "      <td>439654.0</td>\n",
       "      <td>282823.0</td>\n",
       "      <td>156831.0</td>\n",
       "      <td>158438.0</td>\n",
       "      <td>NaN</td>\n",
       "      <td>181664.0</td>\n",
       "      <td>600759.0</td>\n",
       "      <td>178435.0</td>\n",
       "      <td>89679.0</td>\n",
       "      <td>1481.0</td>\n",
       "    </tr>\n",
       "    <tr>\n",
       "      <th>1</th>\n",
       "      <td>JAMMU AND KASHMIR</td>\n",
       "      <td>Badgam</td>\n",
       "      <td>753745.0</td>\n",
       "      <td>NaN</td>\n",
       "      <td>355704.0</td>\n",
       "      <td>335649.0</td>\n",
       "      <td>207741.0</td>\n",
       "      <td>127908.0</td>\n",
       "      <td>160649.0</td>\n",
       "      <td>27190.0</td>\n",
       "      <td>187839.0</td>\n",
       "      <td>503223.0</td>\n",
       "      <td>160933.0</td>\n",
       "      <td>88978.0</td>\n",
       "      <td>611.0</td>\n",
       "    </tr>\n",
       "    <tr>\n",
       "      <th>2</th>\n",
       "      <td>JAMMU AND KASHMIR</td>\n",
       "      <td>Leh(Ladakh)</td>\n",
       "      <td>133487.0</td>\n",
       "      <td>78971.0</td>\n",
       "      <td>54516.0</td>\n",
       "      <td>93770.0</td>\n",
       "      <td>62834.0</td>\n",
       "      <td>30936.0</td>\n",
       "      <td>36920.0</td>\n",
       "      <td>17474.0</td>\n",
       "      <td>54394.0</td>\n",
       "      <td>70703.0</td>\n",
       "      <td>41515.0</td>\n",
       "      <td>NaN</td>\n",
       "      <td>250.0</td>\n",
       "    </tr>\n",
       "    <tr>\n",
       "      <th>3</th>\n",
       "      <td>JAMMU AND KASHMIR</td>\n",
       "      <td>Kargil</td>\n",
       "      <td>140802.0</td>\n",
       "      <td>NaN</td>\n",
       "      <td>63017.0</td>\n",
       "      <td>NaN</td>\n",
       "      <td>56301.0</td>\n",
       "      <td>29935.0</td>\n",
       "      <td>40370.0</td>\n",
       "      <td>7774.0</td>\n",
       "      <td>48144.0</td>\n",
       "      <td>87532.0</td>\n",
       "      <td>35561.0</td>\n",
       "      <td>17488.0</td>\n",
       "      <td>221.0</td>\n",
       "    </tr>\n",
       "    <tr>\n",
       "      <th>4</th>\n",
       "      <td>JAMMU AND KASHMIR</td>\n",
       "      <td>Punch</td>\n",
       "      <td>NaN</td>\n",
       "      <td>251899.0</td>\n",
       "      <td>224936.0</td>\n",
       "      <td>261724.0</td>\n",
       "      <td>163333.0</td>\n",
       "      <td>98391.0</td>\n",
       "      <td>132139.0</td>\n",
       "      <td>15269.0</td>\n",
       "      <td>147408.0</td>\n",
       "      <td>304979.0</td>\n",
       "      <td>109818.0</td>\n",
       "      <td>61334.0</td>\n",
       "      <td>704.0</td>\n",
       "    </tr>\n",
       "  </tbody>\n",
       "</table>\n",
       "</div>"
      ],
      "text/plain": [
       "            State/UT     District  Population      Male    Female  Literate  \\\n",
       "0  JAMMU AND KASHMIR      Kupwara    870354.0  474190.0  396164.0  439654.0   \n",
       "1  JAMMU AND KASHMIR       Badgam    753745.0       NaN  355704.0  335649.0   \n",
       "2  JAMMU AND KASHMIR  Leh(Ladakh)    133487.0   78971.0   54516.0   93770.0   \n",
       "3  JAMMU AND KASHMIR       Kargil    140802.0       NaN   63017.0       NaN   \n",
       "4  JAMMU AND KASHMIR        Punch         NaN  251899.0  224936.0  261724.0   \n",
       "\n",
       "   Literate_Male  Literate_Female  Households_Rural  Urban_Households  \\\n",
       "0       282823.0         156831.0          158438.0               NaN   \n",
       "1       207741.0         127908.0          160649.0           27190.0   \n",
       "2        62834.0          30936.0           36920.0           17474.0   \n",
       "3        56301.0          29935.0           40370.0            7774.0   \n",
       "4       163333.0          98391.0          132139.0           15269.0   \n",
       "\n",
       "   Households  Young_and_Adult  Middle_Aged  Senior_Citizen  Age_Not_Stated  \n",
       "0    181664.0         600759.0     178435.0         89679.0          1481.0  \n",
       "1    187839.0         503223.0     160933.0         88978.0           611.0  \n",
       "2     54394.0          70703.0      41515.0             NaN           250.0  \n",
       "3     48144.0          87532.0      35561.0         17488.0           221.0  \n",
       "4    147408.0         304979.0     109818.0         61334.0           704.0  "
      ]
     },
     "execution_count": 6,
     "metadata": {},
     "output_type": "execute_result"
    }
   ],
   "source": [
    "df_census11 = df_census11.rename(columns=cols_dict)\n",
    "df_census11.head()"
   ]
  },
  {
   "cell_type": "code",
   "execution_count": null,
   "metadata": {},
   "outputs": [],
   "source": []
  },
  {
   "cell_type": "markdown",
   "metadata": {},
   "source": [
    "### Problem Statement 3: (Rename State/UT Names)"
   ]
  },
  {
   "cell_type": "code",
   "execution_count": 7,
   "metadata": {},
   "outputs": [],
   "source": [
    " # The State/UT names are in all caps in the census data, For uniformity across datasets we use\n",
    "# the names so that only the first character of each word in the name is in upper case and the\n",
    "# rest are in lower case. However, if the word is “and” then it should be all lowercase.\n",
    "# Examples:\n",
    "#  Andaman and Nicobar Islands\n",
    "#  Arunachal Pradesh\n",
    "#  Bihar"
   ]
  },
  {
   "cell_type": "code",
   "execution_count": 8,
   "metadata": {},
   "outputs": [],
   "source": [
    "df_census11['State/UT'] = df_census11['State/UT'].apply(lambda x: ' '.join([i.lower() if i.lower() == 'and' else i.capitalize() for i in x.split(\" \")]))"
   ]
  },
  {
   "cell_type": "code",
   "execution_count": 9,
   "metadata": {},
   "outputs": [
    {
     "data": {
      "text/plain": [
       "0                Jammu and Kashmir\n",
       "1                Jammu and Kashmir\n",
       "2                Jammu and Kashmir\n",
       "3                Jammu and Kashmir\n",
       "4                Jammu and Kashmir\n",
       "                  ...             \n",
       "635                    Pondicherry\n",
       "636                    Pondicherry\n",
       "637    Andaman and Nicobar Islands\n",
       "638    Andaman and Nicobar Islands\n",
       "639    Andaman and Nicobar Islands\n",
       "Name: State/UT, Length: 640, dtype: object"
      ]
     },
     "execution_count": 9,
     "metadata": {},
     "output_type": "execute_result"
    }
   ],
   "source": [
    "df_census11['State/UT']"
   ]
  },
  {
   "cell_type": "code",
   "execution_count": null,
   "metadata": {},
   "outputs": [],
   "source": []
  },
  {
   "cell_type": "markdown",
   "metadata": {},
   "source": [
    "### Problem Statement 4: (New State/UT formation)"
   ]
  },
  {
   "cell_type": "code",
   "execution_count": 10,
   "metadata": {},
   "outputs": [],
   "source": [
    "# \n",
    "#  In 2014 Telangana was formed after it split from Andhra Pradesh, The districts that\n",
    "# were included in Telangana are stored in Data/Telangana.txt . Read the text file and\n",
    "# Rename the State/UT From “Andhra Pradesh” to “Telangana” for the given districts.\n",
    "# \n",
    "#  In 2019 Laddakh was formed after it split from Jammu and Kashmir, which included\n",
    "# the districts Leh and Kargil. Rename the State/UT From “Jammu and Kashmir” to\n",
    "# “Laddakh” for the given districts."
   ]
  },
  {
   "cell_type": "code",
   "execution_count": 12,
   "metadata": {},
   "outputs": [
    {
     "data": {
      "text/plain": [
       "['Adilabad',\n",
       " 'Nizamabad',\n",
       " 'Karimnagar',\n",
       " 'Medak',\n",
       " 'Hyderabad',\n",
       " 'Rangareddy',\n",
       " 'Mahbubnagar',\n",
       " 'Nalgonda',\n",
       " 'Warangal',\n",
       " 'Khammam']"
      ]
     },
     "execution_count": 12,
     "metadata": {},
     "output_type": "execute_result"
    }
   ],
   "source": [
    "with open(\"../Data/Telangana.txt\") as file:\n",
    "    ts_dists = list(file.readlines())\n",
    "ts_dists = [i.replace('\\n','') for i in ts_dists]\n",
    "ts_dists        "
   ]
  },
  {
   "cell_type": "code",
   "execution_count": 13,
   "metadata": {},
   "outputs": [
    {
     "data": {
      "text/plain": [
       "Uttar Pradesh                  71\n",
       "Madhya Pradesh                 50\n",
       "Bihar                          38\n",
       "Maharashtra                    35\n",
       "Rajasthan                      33\n",
       "Tamil Nadu                     32\n",
       "Karnataka                      30\n",
       "Orissa                         30\n",
       "Assam                          27\n",
       "Gujarat                        26\n",
       "Jharkhand                      24\n",
       "Jammu and Kashmir              22\n",
       "Haryana                        21\n",
       "Punjab                         20\n",
       "West Bengal                    19\n",
       "Chhattisgarh                   18\n",
       "Arunachal Pradesh              16\n",
       "Kerala                         14\n",
       "Andhra Pradesh                 13\n",
       "Uttarakhand                    13\n",
       "Himachal Pradesh               12\n",
       "Nagaland                       11\n",
       "Telangana                      10\n",
       "Manipur                         9\n",
       "Nct Of Delhi                    9\n",
       "Mizoram                         8\n",
       "Meghalaya                       7\n",
       "Tripura                         4\n",
       "Sikkim                          4\n",
       "Pondicherry                     4\n",
       "Andaman and Nicobar Islands     3\n",
       "Goa                             2\n",
       "Daman and Diu                   2\n",
       "Lakshadweep                     1\n",
       "Chandigarh                      1\n",
       "Dadra and Nagar Haveli          1\n",
       "Name: State/UT, dtype: int64"
      ]
     },
     "execution_count": 13,
     "metadata": {},
     "output_type": "execute_result"
    }
   ],
   "source": [
    "# df_census11[df_census11['District'].isin(ts_dists)]# = 'Telangana'\n",
    "df_census11['State/UT'] = df_census11.apply(lambda x: 'Telangana' if x['District'] in ts_dists else x['State/UT'], axis=1)\n",
    "df_census11['State/UT'].value_counts()"
   ]
  },
  {
   "cell_type": "markdown",
   "metadata": {},
   "source": [
    "### Problem Statement 5: (Find and process Missing Data)"
   ]
  },
  {
   "cell_type": "code",
   "execution_count": 14,
   "metadata": {},
   "outputs": [],
   "source": [
    "\n",
    "# Find and store the percentage of data missing for each column.\n",
    "# Some data can be found and filled in by using information from other cells. Try to find the\n",
    "# correct data by using information from other cells and filling it in. Find and store the\n",
    "# percentage of data missing for each column.\n",
    "\n",
    "# Hint:\n",
    "# Population = Male + Female\n",
    "# Literate = Literate_Male + Literate_Female\n",
    "# Population = Young_and_Adult+ Middle_Aged + Senior_Citizen + Age_Not_Stated\n",
    "# Households = Households_Rural + Households_Urban\n",
    "\n",
    "# Create a visualization that compares the amount of missing data before and after the data-\n",
    "# filling process was done.\n"
   ]
  },
  {
   "cell_type": "code",
   "execution_count": 15,
   "metadata": {},
   "outputs": [
    {
     "name": "stdout",
     "output_type": "stream",
     "text": [
      "<class 'pandas.core.frame.DataFrame'>\n",
      "RangeIndex: 640 entries, 0 to 639\n",
      "Data columns (total 15 columns):\n",
      " #   Column            Non-Null Count  Dtype  \n",
      "---  ------            --------------  -----  \n",
      " 0   State/UT          640 non-null    object \n",
      " 1   District          640 non-null    object \n",
      " 2   Population        610 non-null    float64\n",
      " 3   Male              610 non-null    float64\n",
      " 4   Female            607 non-null    float64\n",
      " 5   Literate          604 non-null    float64\n",
      " 6   Literate_Male     609 non-null    float64\n",
      " 7   Literate_Female   613 non-null    float64\n",
      " 8   Households_Rural  598 non-null    float64\n",
      " 9   Urban_Households  607 non-null    float64\n",
      " 10  Households        608 non-null    float64\n",
      " 11  Young_and_Adult   609 non-null    float64\n",
      " 12  Middle_Aged       610 non-null    float64\n",
      " 13  Senior_Citizen    609 non-null    float64\n",
      " 14  Age_Not_Stated    605 non-null    float64\n",
      "dtypes: float64(13), object(2)\n",
      "memory usage: 75.1+ KB\n"
     ]
    }
   ],
   "source": [
    "df_census11.info()"
   ]
  },
  {
   "cell_type": "code",
   "execution_count": 16,
   "metadata": {},
   "outputs": [
    {
     "data": {
      "text/plain": [
       "421"
      ]
     },
     "execution_count": 16,
     "metadata": {},
     "output_type": "execute_result"
    }
   ],
   "source": [
    "total_nuls = df_census11.isnull().sum().sum()\n",
    "total_nuls"
   ]
  },
  {
   "cell_type": "code",
   "execution_count": 17,
   "metadata": {},
   "outputs": [
    {
     "data": {
      "text/plain": [
       "{'State/UT': 0.0,\n",
       " 'District': 0.0,\n",
       " 'Population': 4.6875,\n",
       " 'Male': 4.6875,\n",
       " 'Female': 5.15625,\n",
       " 'Literate': 5.625,\n",
       " 'Literate_Male': 4.84375,\n",
       " 'Literate_Female': 4.21875,\n",
       " 'Households_Rural': 6.5625,\n",
       " 'Urban_Households': 5.15625,\n",
       " 'Households': 5.0,\n",
       " 'Young_and_Adult': 4.84375,\n",
       " 'Middle_Aged': 4.6875,\n",
       " 'Senior_Citizen': 4.84375,\n",
       " 'Age_Not_Stated': 5.46875}"
      ]
     },
     "execution_count": 17,
     "metadata": {},
     "output_type": "execute_result"
    }
   ],
   "source": [
    "na_perc_col = { df_census11.columns[i] : val*100/640 for i,val in enumerate(df_census11.isnull().sum())}\n",
    "na_perc_col"
   ]
  },
  {
   "cell_type": "code",
   "execution_count": 18,
   "metadata": {},
   "outputs": [],
   "source": [
    "# Population = Male + Female\n",
    "# Literate = Literate_Male + Literate_Female\n",
    "# Population = Young_and_Adult+ Middle_Aged + Senior_Citizen + Age_Not_Stated\n",
    "# Households = Households_Rural + Households_Urban"
   ]
  },
  {
   "cell_type": "code",
   "execution_count": 19,
   "metadata": {},
   "outputs": [
    {
     "data": {
      "text/plain": [
       "0      870354.0\n",
       "1      753745.0\n",
       "2      133487.0\n",
       "3      140802.0\n",
       "4      476835.0\n",
       "         ...   \n",
       "635     41816.0\n",
       "636    200222.0\n",
       "637     36842.0\n",
       "638    105597.0\n",
       "639    238142.0\n",
       "Length: 640, dtype: float64"
      ]
     },
     "execution_count": 19,
     "metadata": {},
     "output_type": "execute_result"
    }
   ],
   "source": [
    "# Population = Male + Female\n",
    "tempdf = df_census11.fillna(0)\n",
    "tempdf.apply(lambda x: x[\"Young_and_Adult\"]+ x[\"Middle_Aged\"] + x[\"Senior_Citizen\"] + x[\"Age_Not_Stated\"] \n",
    "                  if not x['Population']\n",
    "                  else x['Population'],\n",
    "                   axis = 1)"
   ]
  },
  {
   "cell_type": "code",
   "execution_count": 20,
   "metadata": {},
   "outputs": [],
   "source": [
    "# Population = Young_and_Adult+ Middle_Aged + Senior_Citizen + Age_Not_Stated\n",
    "tempdf = df_census11.fillna(0)\n",
    "df_census11['Population'] = tempdf.apply(lambda x: x['Population']\n",
    "                  if  x['Population']\n",
    "                  else x[\"Male\"]+ x[\"Female\"] ,\n",
    "                   axis = 1)"
   ]
  },
  {
   "cell_type": "code",
   "execution_count": 21,
   "metadata": {},
   "outputs": [],
   "source": [
    "# Literate = Literate_Male + Literate_Female\n",
    "\n",
    "df_census11['Literate']  = tempdf.apply(lambda x: x['Literate']\n",
    "                  if  x['Literate']\n",
    "                  else x[\"Literate_Male\"]+ x[\"Literate_Female\"] ,\n",
    "                   axis = 1).isna().sum()"
   ]
  },
  {
   "cell_type": "code",
   "execution_count": 22,
   "metadata": {},
   "outputs": [],
   "source": [
    "# Households = Households_Rural + Households_Urban\n",
    "\n",
    "df_census11['Households'] = tempdf.apply(lambda x: x['Households']\n",
    "                  if  x['Households']\n",
    "                  else x[\"Households_Rural\"]+ x[\"Urban_Households\"] ,\n",
    "                   axis = 1).isna().sum()"
   ]
  },
  {
   "cell_type": "code",
   "execution_count": 23,
   "metadata": {},
   "outputs": [
    {
     "name": "stdout",
     "output_type": "stream",
     "text": [
      "<class 'pandas.core.frame.DataFrame'>\n",
      "RangeIndex: 640 entries, 0 to 639\n",
      "Data columns (total 15 columns):\n",
      " #   Column            Non-Null Count  Dtype  \n",
      "---  ------            --------------  -----  \n",
      " 0   State/UT          640 non-null    object \n",
      " 1   District          640 non-null    object \n",
      " 2   Population        640 non-null    float64\n",
      " 3   Male              610 non-null    float64\n",
      " 4   Female            607 non-null    float64\n",
      " 5   Literate          640 non-null    int64  \n",
      " 6   Literate_Male     609 non-null    float64\n",
      " 7   Literate_Female   613 non-null    float64\n",
      " 8   Households_Rural  598 non-null    float64\n",
      " 9   Urban_Households  607 non-null    float64\n",
      " 10  Households        640 non-null    int64  \n",
      " 11  Young_and_Adult   609 non-null    float64\n",
      " 12  Middle_Aged       610 non-null    float64\n",
      " 13  Senior_Citizen    609 non-null    float64\n",
      " 14  Age_Not_Stated    605 non-null    float64\n",
      "dtypes: float64(11), int64(2), object(2)\n",
      "memory usage: 75.1+ KB\n"
     ]
    }
   ],
   "source": [
    "df_census11.info()"
   ]
  },
  {
   "cell_type": "code",
   "execution_count": 24,
   "metadata": {},
   "outputs": [
    {
     "data": {
      "text/plain": [
       "323"
      ]
     },
     "execution_count": 24,
     "metadata": {},
     "output_type": "execute_result"
    }
   ],
   "source": [
    "nuls_aftr_fill = df_census11.isnull().sum().sum()\n",
    "nuls_aftr_fill"
   ]
  },
  {
   "cell_type": "code",
   "execution_count": 25,
   "metadata": {},
   "outputs": [
    {
     "data": {
      "image/png": "[encoded data removed]",
      "text/plain": [
       "<Figure size 640x480 with 1 Axes>"
      ]
     },
     "metadata": {},
     "output_type": "display_data"
    }
   ],
   "source": [
    "plt.bar([\"Missing data before filling Nuls\",\"Missing data after filling nulls\"],[total_nuls,nuls_aftr_fill])\n",
    "plt.title(\"Missing values comparsion\")\n",
    "plt.show()"
   ]
  },
  {
   "cell_type": "code",
   "execution_count": 28,
   "metadata": {},
   "outputs": [],
   "source": [
    "new_names = {'PONDICHERRY': 'PUDUCHERRY', 'ORISSA': 'ODISHA', 'NCT OF DELHI': 'DELHI'}"
   ]
  },
  {
   "cell_type": "code",
   "execution_count": 31,
   "metadata": {},
   "outputs": [
    {
     "data": {
      "text/html": [
       "<div>\n",
       "<style scoped>\n",
       "    .dataframe tbody tr th:only-of-type {\n",
       "        vertical-align: middle;\n",
       "    }\n",
       "\n",
       "    .dataframe tbody tr th {\n",
       "        vertical-align: top;\n",
       "    }\n",
       "\n",
       "    .dataframe thead th {\n",
       "        text-align: right;\n",
       "    }\n",
       "</style>\n",
       "<table border=\"1\" class=\"dataframe\">\n",
       "  <thead>\n",
       "    <tr style=\"text-align: right;\">\n",
       "      <th></th>\n",
       "      <th>State/UT</th>\n",
       "      <th>District</th>\n",
       "      <th>Population</th>\n",
       "      <th>Male</th>\n",
       "      <th>Female</th>\n",
       "      <th>Literate</th>\n",
       "      <th>Literate_Male</th>\n",
       "      <th>Literate_Female</th>\n",
       "      <th>Households_Rural</th>\n",
       "      <th>Urban_Households</th>\n",
       "      <th>Households</th>\n",
       "      <th>Young_and_Adult</th>\n",
       "      <th>Middle_Aged</th>\n",
       "      <th>Senior_Citizen</th>\n",
       "      <th>Age_Not_Stated</th>\n",
       "    </tr>\n",
       "  </thead>\n",
       "  <tbody>\n",
       "    <tr>\n",
       "      <th>0</th>\n",
       "      <td>JAMMU AND KASHMIR</td>\n",
       "      <td>Kupwara</td>\n",
       "      <td>870354.0</td>\n",
       "      <td>474190.0</td>\n",
       "      <td>396164.0</td>\n",
       "      <td>0</td>\n",
       "      <td>282823.0</td>\n",
       "      <td>156831.0</td>\n",
       "      <td>158438.0</td>\n",
       "      <td>NaN</td>\n",
       "      <td>0</td>\n",
       "      <td>600759.0</td>\n",
       "      <td>178435.0</td>\n",
       "      <td>89679.0</td>\n",
       "      <td>1481.0</td>\n",
       "    </tr>\n",
       "    <tr>\n",
       "      <th>1</th>\n",
       "      <td>JAMMU AND KASHMIR</td>\n",
       "      <td>Badgam</td>\n",
       "      <td>753745.0</td>\n",
       "      <td>NaN</td>\n",
       "      <td>355704.0</td>\n",
       "      <td>0</td>\n",
       "      <td>207741.0</td>\n",
       "      <td>127908.0</td>\n",
       "      <td>160649.0</td>\n",
       "      <td>27190.0</td>\n",
       "      <td>0</td>\n",
       "      <td>503223.0</td>\n",
       "      <td>160933.0</td>\n",
       "      <td>88978.0</td>\n",
       "      <td>611.0</td>\n",
       "    </tr>\n",
       "    <tr>\n",
       "      <th>2</th>\n",
       "      <td>JAMMU AND KASHMIR</td>\n",
       "      <td>Leh(Ladakh)</td>\n",
       "      <td>133487.0</td>\n",
       "      <td>78971.0</td>\n",
       "      <td>54516.0</td>\n",
       "      <td>0</td>\n",
       "      <td>62834.0</td>\n",
       "      <td>30936.0</td>\n",
       "      <td>36920.0</td>\n",
       "      <td>17474.0</td>\n",
       "      <td>0</td>\n",
       "      <td>70703.0</td>\n",
       "      <td>41515.0</td>\n",
       "      <td>NaN</td>\n",
       "      <td>250.0</td>\n",
       "    </tr>\n",
       "    <tr>\n",
       "      <th>3</th>\n",
       "      <td>JAMMU AND KASHMIR</td>\n",
       "      <td>Kargil</td>\n",
       "      <td>140802.0</td>\n",
       "      <td>NaN</td>\n",
       "      <td>63017.0</td>\n",
       "      <td>0</td>\n",
       "      <td>56301.0</td>\n",
       "      <td>29935.0</td>\n",
       "      <td>40370.0</td>\n",
       "      <td>7774.0</td>\n",
       "      <td>0</td>\n",
       "      <td>87532.0</td>\n",
       "      <td>35561.0</td>\n",
       "      <td>17488.0</td>\n",
       "      <td>221.0</td>\n",
       "    </tr>\n",
       "    <tr>\n",
       "      <th>4</th>\n",
       "      <td>JAMMU AND KASHMIR</td>\n",
       "      <td>Punch</td>\n",
       "      <td>476835.0</td>\n",
       "      <td>251899.0</td>\n",
       "      <td>224936.0</td>\n",
       "      <td>0</td>\n",
       "      <td>163333.0</td>\n",
       "      <td>98391.0</td>\n",
       "      <td>132139.0</td>\n",
       "      <td>15269.0</td>\n",
       "      <td>0</td>\n",
       "      <td>304979.0</td>\n",
       "      <td>109818.0</td>\n",
       "      <td>61334.0</td>\n",
       "      <td>704.0</td>\n",
       "    </tr>\n",
       "  </tbody>\n",
       "</table>\n",
       "</div>"
      ],
      "text/plain": [
       "            State/UT     District  Population      Male    Female  Literate  \\\n",
       "0  JAMMU AND KASHMIR      Kupwara    870354.0  474190.0  396164.0         0   \n",
       "1  JAMMU AND KASHMIR       Badgam    753745.0       NaN  355704.0         0   \n",
       "2  JAMMU AND KASHMIR  Leh(Ladakh)    133487.0   78971.0   54516.0         0   \n",
       "3  JAMMU AND KASHMIR       Kargil    140802.0       NaN   63017.0         0   \n",
       "4  JAMMU AND KASHMIR        Punch    476835.0  251899.0  224936.0         0   \n",
       "\n",
       "   Literate_Male  Literate_Female  Households_Rural  Urban_Households  \\\n",
       "0       282823.0         156831.0          158438.0               NaN   \n",
       "1       207741.0         127908.0          160649.0           27190.0   \n",
       "2        62834.0          30936.0           36920.0           17474.0   \n",
       "3        56301.0          29935.0           40370.0            7774.0   \n",
       "4       163333.0          98391.0          132139.0           15269.0   \n",
       "\n",
       "   Households  Young_and_Adult  Middle_Aged  Senior_Citizen  Age_Not_Stated  \n",
       "0           0         600759.0     178435.0         89679.0          1481.0  \n",
       "1           0         503223.0     160933.0         88978.0           611.0  \n",
       "2           0          70703.0      41515.0             NaN           250.0  \n",
       "3           0          87532.0      35561.0         17488.0           221.0  \n",
       "4           0         304979.0     109818.0         61334.0           704.0  "
      ]
     },
     "execution_count": 31,
     "metadata": {},
     "output_type": "execute_result"
    }
   ],
   "source": [
    "# updating the state names in housing data\n",
    "\n",
    "df_census11['State/UT'] = df_census11['State/UT'].apply(lambda x: new_names[x.upper()] if x.upper() in new_names.keys() else x.upper())\n",
    "df_census11.head()"
   ]
  },
  {
   "cell_type": "code",
   "execution_count": null,
   "metadata": {},
   "outputs": [],
   "source": []
  },
  {
   "cell_type": "code",
   "execution_count": 33,
   "metadata": {},
   "outputs": [],
   "source": [
    "save_path = '../Clean_data/Census_cleaned.csv' \n",
    "df_census11.to_csv(save_path,index=False)"
   ]
  },
  {
   "cell_type": "code",
   "execution_count": null,
   "metadata": {},
   "outputs": [],
   "source": []
  }
 ],
 "metadata": {
  "kernelspec": {
   "display_name": "Python 3",
   "language": "python",
   "name": "python3"
  },
  "language_info": {
   "codemirror_mode": {
    "name": "ipython",
    "version": 3
   },
   "file_extension": ".py",
   "mimetype": "text/x-python",
   "name": "python",
   "nbconvert_exporter": "python",
   "pygments_lexer": "ipython3",
   "version": "3.10.10"
  },
  "orig_nbformat": 4,
  "vscode": {
   "interpreter": {
    "hash": "478c252231dfe006bc6f75e9071afe2d2dd3e9fa01c3c124e4bb74b28e07e18a"
   }
  }
 },
 "nbformat": 4,
 "nbformat_minor": 2
}
