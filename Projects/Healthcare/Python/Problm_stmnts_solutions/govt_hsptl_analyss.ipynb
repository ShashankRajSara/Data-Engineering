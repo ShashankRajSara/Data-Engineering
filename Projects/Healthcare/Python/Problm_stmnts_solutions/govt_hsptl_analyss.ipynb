{
 "cells": [
  {
   "cell_type": "markdown",
   "metadata": {},
   "source": [
    "## Government Hospitals Requirement Analysis"
   ]
  },
  {
   "cell_type": "code",
   "execution_count": null,
   "metadata": {},
   "outputs": [],
   "source": [
    "# The Union of Doctors in its meeting passed a resolution that the government hospitals are lacking in numbers in many states, \n",
    "# The government has taken notice of the resolution and has asked for a recommendation for the state where a new government hospital can be set up.\n",
    "\n",
    "# Use the government hospital data (Data/government_hospitals.csv) to suggest which state the government should create a new hospital."
   ]
  },
  {
   "cell_type": "code",
   "execution_count": 1,
   "metadata": {},
   "outputs": [],
   "source": [
    "import pandas as pd\n",
    "import numpy as np\n",
    "import matplotlib.pyplot as plt"
   ]
  },
  {
   "cell_type": "markdown",
   "metadata": {},
   "source": [
    "### Problem Statement 13: (Multi-line header)"
   ]
  },
  {
   "cell_type": "code",
   "execution_count": null,
   "metadata": {},
   "outputs": [],
   "source": [
    "# The header in (Data/government_hospitals.csv) is in 2 rows\n",
    "\n",
    "# States/UTs Rural hospitals Urban hospitals As on\n",
    "# No. Beds No. Beds\n",
    "\n",
    "# The headers are required to be edited for ease of future use as well as for the sake of uniformity.\n",
    "# Import and update the data in a way that it has the following column names\n",
    "\n",
    "# State/UT\n",
    "# Rural_Government_Hospitals\n",
    "# Rural_Government_Beds\n",
    "# Urban_Government_Hospitals\n",
    "# Urban_Government_Beds\n",
    "# Last_Updated"
   ]
  },
  {
   "cell_type": "code",
   "execution_count": 3,
   "metadata": {},
   "outputs": [
    {
     "data": {
      "text/html": [
       "<div>\n",
       "<style scoped>\n",
       "    .dataframe tbody tr th:only-of-type {\n",
       "        vertical-align: middle;\n",
       "    }\n",
       "\n",
       "    .dataframe tbody tr th {\n",
       "        vertical-align: top;\n",
       "    }\n",
       "\n",
       "    .dataframe thead th {\n",
       "        text-align: right;\n",
       "    }\n",
       "</style>\n",
       "<table border=\"1\" class=\"dataframe\">\n",
       "  <thead>\n",
       "    <tr style=\"text-align: right;\">\n",
       "      <th></th>\n",
       "      <th>States/UTs</th>\n",
       "      <th>Rural hospitals</th>\n",
       "      <th>Unnamed: 2</th>\n",
       "      <th>Urban hospitals</th>\n",
       "      <th>Unnamed: 4</th>\n",
       "      <th>As on</th>\n",
       "    </tr>\n",
       "  </thead>\n",
       "  <tbody>\n",
       "    <tr>\n",
       "      <th>0</th>\n",
       "      <td>Andhra Pradesh</td>\n",
       "      <td>193</td>\n",
       "      <td>6480</td>\n",
       "      <td>65</td>\n",
       "      <td>16658</td>\n",
       "      <td>01.01.2017</td>\n",
       "    </tr>\n",
       "    <tr>\n",
       "      <th>1</th>\n",
       "      <td>Arunachal Pradesh*</td>\n",
       "      <td>208</td>\n",
       "      <td>2136</td>\n",
       "      <td>10</td>\n",
       "      <td>268</td>\n",
       "      <td>31.12.2017</td>\n",
       "    </tr>\n",
       "    <tr>\n",
       "      <th>2</th>\n",
       "      <td>Assam</td>\n",
       "      <td>1176</td>\n",
       "      <td>10944</td>\n",
       "      <td>50</td>\n",
       "      <td>6198</td>\n",
       "      <td>31.12.2017</td>\n",
       "    </tr>\n",
       "    <tr>\n",
       "      <th>3</th>\n",
       "      <td>Bihar</td>\n",
       "      <td>930</td>\n",
       "      <td>6083</td>\n",
       "      <td>103</td>\n",
       "      <td>5936</td>\n",
       "      <td>31.12.2016</td>\n",
       "    </tr>\n",
       "    <tr>\n",
       "      <th>4</th>\n",
       "      <td>Chhattisgarh</td>\n",
       "      <td>169</td>\n",
       "      <td>5070</td>\n",
       "      <td>45</td>\n",
       "      <td>4342</td>\n",
       "      <td>01.01.2016</td>\n",
       "    </tr>\n",
       "  </tbody>\n",
       "</table>\n",
       "</div>"
      ],
      "text/plain": [
       "           States/UTs  Rural hospitals  Unnamed: 2  Urban hospitals  \\\n",
       "0      Andhra Pradesh              193        6480               65   \n",
       "1  Arunachal Pradesh*              208        2136               10   \n",
       "2               Assam             1176       10944               50   \n",
       "3               Bihar              930        6083              103   \n",
       "4        Chhattisgarh              169        5070               45   \n",
       "\n",
       "   Unnamed: 4       As on  \n",
       "0       16658  01.01.2017  \n",
       "1         268  31.12.2017  \n",
       "2        6198  31.12.2017  \n",
       "3        5936  31.12.2016  \n",
       "4        4342  01.01.2016  "
      ]
     },
     "execution_count": 3,
     "metadata": {},
     "output_type": "execute_result"
    }
   ],
   "source": [
    "# reading the data\n",
    "df_govt_hs = pd.read_csv('../Data/government_hospitals.csv',skiprows=[1])\n",
    "df_govt_hs.head()"
   ]
  },
  {
   "cell_type": "code",
   "execution_count": 6,
   "metadata": {},
   "outputs": [],
   "source": [
    "# renaming the cols\n",
    "renamed_cols = [\n",
    "\"State/UT\",\n",
    "\"Rural_Government_Hospitals\",\n",
    "\"Rural_Government_Beds\",\n",
    "\"Urban_Government_Hospitals\",\n",
    "\"Urban_Government_Beds\",\n",
    "\"Last_Updated\"\n",
    "]\n",
    "df_govt_hs = df_govt_hs.rename(columns={val:renamed_cols[i] for i,val in enumerate(df_govt_hs.columns)})"
   ]
  },
  {
   "cell_type": "code",
   "execution_count": 7,
   "metadata": {},
   "outputs": [
    {
     "data": {
      "text/html": [
       "<div>\n",
       "<style scoped>\n",
       "    .dataframe tbody tr th:only-of-type {\n",
       "        vertical-align: middle;\n",
       "    }\n",
       "\n",
       "    .dataframe tbody tr th {\n",
       "        vertical-align: top;\n",
       "    }\n",
       "\n",
       "    .dataframe thead th {\n",
       "        text-align: right;\n",
       "    }\n",
       "</style>\n",
       "<table border=\"1\" class=\"dataframe\">\n",
       "  <thead>\n",
       "    <tr style=\"text-align: right;\">\n",
       "      <th></th>\n",
       "      <th>State/UT</th>\n",
       "      <th>Rural_Government_Hospitals</th>\n",
       "      <th>Rural_Government_Beds</th>\n",
       "      <th>Urban_Government_Hospitals</th>\n",
       "      <th>Urban_Government_Beds</th>\n",
       "      <th>Last_Updated</th>\n",
       "    </tr>\n",
       "  </thead>\n",
       "  <tbody>\n",
       "    <tr>\n",
       "      <th>0</th>\n",
       "      <td>Andhra Pradesh</td>\n",
       "      <td>193</td>\n",
       "      <td>6480</td>\n",
       "      <td>65</td>\n",
       "      <td>16658</td>\n",
       "      <td>01.01.2017</td>\n",
       "    </tr>\n",
       "    <tr>\n",
       "      <th>1</th>\n",
       "      <td>Arunachal Pradesh*</td>\n",
       "      <td>208</td>\n",
       "      <td>2136</td>\n",
       "      <td>10</td>\n",
       "      <td>268</td>\n",
       "      <td>31.12.2017</td>\n",
       "    </tr>\n",
       "    <tr>\n",
       "      <th>2</th>\n",
       "      <td>Assam</td>\n",
       "      <td>1176</td>\n",
       "      <td>10944</td>\n",
       "      <td>50</td>\n",
       "      <td>6198</td>\n",
       "      <td>31.12.2017</td>\n",
       "    </tr>\n",
       "    <tr>\n",
       "      <th>3</th>\n",
       "      <td>Bihar</td>\n",
       "      <td>930</td>\n",
       "      <td>6083</td>\n",
       "      <td>103</td>\n",
       "      <td>5936</td>\n",
       "      <td>31.12.2016</td>\n",
       "    </tr>\n",
       "    <tr>\n",
       "      <th>4</th>\n",
       "      <td>Chhattisgarh</td>\n",
       "      <td>169</td>\n",
       "      <td>5070</td>\n",
       "      <td>45</td>\n",
       "      <td>4342</td>\n",
       "      <td>01.01.2016</td>\n",
       "    </tr>\n",
       "  </tbody>\n",
       "</table>\n",
       "</div>"
      ],
      "text/plain": [
       "             State/UT  Rural_Government_Hospitals  Rural_Government_Beds  \\\n",
       "0      Andhra Pradesh                         193                   6480   \n",
       "1  Arunachal Pradesh*                         208                   2136   \n",
       "2               Assam                        1176                  10944   \n",
       "3               Bihar                         930                   6083   \n",
       "4        Chhattisgarh                         169                   5070   \n",
       "\n",
       "   Urban_Government_Hospitals  Urban_Government_Beds Last_Updated  \n",
       "0                          65                  16658   01.01.2017  \n",
       "1                          10                    268   31.12.2017  \n",
       "2                          50                   6198   31.12.2017  \n",
       "3                         103                   5936   31.12.2016  \n",
       "4                          45                   4342   01.01.2016  "
      ]
     },
     "execution_count": 7,
     "metadata": {},
     "output_type": "execute_result"
    }
   ],
   "source": [
    "df_govt_hs.head()"
   ]
  },
  {
   "cell_type": "markdown",
   "metadata": {},
   "source": [
    "### Problem Statement 14: (Data update and code reuse)"
   ]
  },
  {
   "cell_type": "code",
   "execution_count": null,
   "metadata": {},
   "outputs": [],
   "source": [
    "# The ”Last_Updated” column contains a date that is in the format DD.MM.YYYY but in the future, \n",
    "# the date is required in a different format (YYYY-MM-DD) update the date to the required format.\n",
    "\n",
    "# The State/UT names have some different formats compared to other census and housing data. \n",
    "# Fix those issues using the function created earlier. If the function created earlier for all_hospitals cannot be used for \n",
    "# government_hospital then edit the function so that it can be used for both.\n",
    "\n",
    "# Create a new file “government_hospital.csv” in the “Clean” folder and save all the government hospital data after the update."
   ]
  },
  {
   "cell_type": "code",
   "execution_count": 9,
   "metadata": {},
   "outputs": [
    {
     "name": "stdout",
     "output_type": "stream",
     "text": [
      "<class 'pandas.core.frame.DataFrame'>\n",
      "RangeIndex: 37 entries, 0 to 36\n",
      "Data columns (total 6 columns):\n",
      " #   Column                      Non-Null Count  Dtype \n",
      "---  ------                      --------------  ----- \n",
      " 0   State/UT                    37 non-null     object\n",
      " 1   Rural_Government_Hospitals  37 non-null     int64 \n",
      " 2   Rural_Government_Beds       37 non-null     int64 \n",
      " 3   Urban_Government_Hospitals  37 non-null     int64 \n",
      " 4   Urban_Government_Beds       37 non-null     int64 \n",
      " 5   Last_Updated                36 non-null     object\n",
      "dtypes: int64(4), object(2)\n",
      "memory usage: 1.9+ KB\n"
     ]
    }
   ],
   "source": [
    "df_govt_hs.info()"
   ]
  },
  {
   "cell_type": "code",
   "execution_count": 18,
   "metadata": {},
   "outputs": [
    {
     "name": "stderr",
     "output_type": "stream",
     "text": [
      "C:\\Users\\miles.MILE-BL-4766-LA.000\\AppData\\Local\\Temp\\ipykernel_19952\\762687955.py:1: UserWarning: Parsing '31.12.2017' in DD/MM/YYYY format. Provide format or specify infer_datetime_format=True for consistent parsing.\n",
      "  df_govt_hs['Last_Updated'] = pd.to_datetime(df_govt_hs['Last_Updated'])#,format='DD.MM.YYYY')\n",
      "C:\\Users\\miles.MILE-BL-4766-LA.000\\AppData\\Local\\Temp\\ipykernel_19952\\762687955.py:1: UserWarning: Parsing '31.12.2016' in DD/MM/YYYY format. Provide format or specify infer_datetime_format=True for consistent parsing.\n",
      "  df_govt_hs['Last_Updated'] = pd.to_datetime(df_govt_hs['Last_Updated'])#,format='DD.MM.YYYY')\n",
      "C:\\Users\\miles.MILE-BL-4766-LA.000\\AppData\\Local\\Temp\\ipykernel_19952\\762687955.py:1: UserWarning: Parsing '30.12.2016' in DD/MM/YYYY format. Provide format or specify infer_datetime_format=True for consistent parsing.\n",
      "  df_govt_hs['Last_Updated'] = pd.to_datetime(df_govt_hs['Last_Updated'])#,format='DD.MM.YYYY')\n",
      "C:\\Users\\miles.MILE-BL-4766-LA.000\\AppData\\Local\\Temp\\ipykernel_19952\\762687955.py:1: UserWarning: Parsing '31.12.2015' in DD/MM/YYYY format. Provide format or specify infer_datetime_format=True for consistent parsing.\n",
      "  df_govt_hs['Last_Updated'] = pd.to_datetime(df_govt_hs['Last_Updated'])#,format='DD.MM.YYYY')\n"
     ]
    },
    {
     "data": {
      "text/html": [
       "<div>\n",
       "<style scoped>\n",
       "    .dataframe tbody tr th:only-of-type {\n",
       "        vertical-align: middle;\n",
       "    }\n",
       "\n",
       "    .dataframe tbody tr th {\n",
       "        vertical-align: top;\n",
       "    }\n",
       "\n",
       "    .dataframe thead th {\n",
       "        text-align: right;\n",
       "    }\n",
       "</style>\n",
       "<table border=\"1\" class=\"dataframe\">\n",
       "  <thead>\n",
       "    <tr style=\"text-align: right;\">\n",
       "      <th></th>\n",
       "      <th>State/UT</th>\n",
       "      <th>Rural_Government_Hospitals</th>\n",
       "      <th>Rural_Government_Beds</th>\n",
       "      <th>Urban_Government_Hospitals</th>\n",
       "      <th>Urban_Government_Beds</th>\n",
       "      <th>Last_Updated</th>\n",
       "    </tr>\n",
       "  </thead>\n",
       "  <tbody>\n",
       "    <tr>\n",
       "      <th>0</th>\n",
       "      <td>Andhra Pradesh</td>\n",
       "      <td>193</td>\n",
       "      <td>6480</td>\n",
       "      <td>65</td>\n",
       "      <td>16658</td>\n",
       "      <td>2017-01-01</td>\n",
       "    </tr>\n",
       "    <tr>\n",
       "      <th>1</th>\n",
       "      <td>Arunachal Pradesh*</td>\n",
       "      <td>208</td>\n",
       "      <td>2136</td>\n",
       "      <td>10</td>\n",
       "      <td>268</td>\n",
       "      <td>2017-12-31</td>\n",
       "    </tr>\n",
       "    <tr>\n",
       "      <th>2</th>\n",
       "      <td>Assam</td>\n",
       "      <td>1176</td>\n",
       "      <td>10944</td>\n",
       "      <td>50</td>\n",
       "      <td>6198</td>\n",
       "      <td>2017-12-31</td>\n",
       "    </tr>\n",
       "  </tbody>\n",
       "</table>\n",
       "</div>"
      ],
      "text/plain": [
       "             State/UT  Rural_Government_Hospitals  Rural_Government_Beds  \\\n",
       "0      Andhra Pradesh                         193                   6480   \n",
       "1  Arunachal Pradesh*                         208                   2136   \n",
       "2               Assam                        1176                  10944   \n",
       "\n",
       "   Urban_Government_Hospitals  Urban_Government_Beds Last_Updated  \n",
       "0                          65                  16658   2017-01-01  \n",
       "1                          10                    268   2017-12-31  \n",
       "2                          50                   6198   2017-12-31  "
      ]
     },
     "execution_count": 18,
     "metadata": {},
     "output_type": "execute_result"
    }
   ],
   "source": [
    "df_govt_hs['Last_Updated'] = pd.to_datetime(df_govt_hs['Last_Updated'])#,format='DD.MM.YYYY')\n",
    "df_govt_hs.head(3)"
   ]
  },
  {
   "cell_type": "code",
   "execution_count": 26,
   "metadata": {},
   "outputs": [
    {
     "data": {
      "text/html": [
       "<div>\n",
       "<style scoped>\n",
       "    .dataframe tbody tr th:only-of-type {\n",
       "        vertical-align: middle;\n",
       "    }\n",
       "\n",
       "    .dataframe tbody tr th {\n",
       "        vertical-align: top;\n",
       "    }\n",
       "\n",
       "    .dataframe thead th {\n",
       "        text-align: right;\n",
       "    }\n",
       "</style>\n",
       "<table border=\"1\" class=\"dataframe\">\n",
       "  <thead>\n",
       "    <tr style=\"text-align: right;\">\n",
       "      <th></th>\n",
       "      <th>State/UT</th>\n",
       "      <th>District</th>\n",
       "      <th>Population</th>\n",
       "      <th>Male</th>\n",
       "      <th>Female</th>\n",
       "      <th>Literate</th>\n",
       "      <th>Literate_Male</th>\n",
       "      <th>Literate_Female</th>\n",
       "      <th>Households_Rural</th>\n",
       "      <th>Urban_Households</th>\n",
       "      <th>Households</th>\n",
       "      <th>Young_and_Adult</th>\n",
       "      <th>Middle_Aged</th>\n",
       "      <th>Senior_Citizen</th>\n",
       "      <th>Age_Not_Stated</th>\n",
       "    </tr>\n",
       "  </thead>\n",
       "  <tbody>\n",
       "    <tr>\n",
       "      <th>0</th>\n",
       "      <td>JAMMU AND KASHMIR</td>\n",
       "      <td>Kupwara</td>\n",
       "      <td>870354.0</td>\n",
       "      <td>474190.0</td>\n",
       "      <td>396164.0</td>\n",
       "      <td>0</td>\n",
       "      <td>282823.0</td>\n",
       "      <td>156831.0</td>\n",
       "      <td>158438.0</td>\n",
       "      <td>NaN</td>\n",
       "      <td>0</td>\n",
       "      <td>600759.0</td>\n",
       "      <td>178435.0</td>\n",
       "      <td>89679.0</td>\n",
       "      <td>1481.0</td>\n",
       "    </tr>\n",
       "    <tr>\n",
       "      <th>1</th>\n",
       "      <td>JAMMU AND KASHMIR</td>\n",
       "      <td>Badgam</td>\n",
       "      <td>753745.0</td>\n",
       "      <td>NaN</td>\n",
       "      <td>355704.0</td>\n",
       "      <td>0</td>\n",
       "      <td>207741.0</td>\n",
       "      <td>127908.0</td>\n",
       "      <td>160649.0</td>\n",
       "      <td>27190.0</td>\n",
       "      <td>0</td>\n",
       "      <td>503223.0</td>\n",
       "      <td>160933.0</td>\n",
       "      <td>88978.0</td>\n",
       "      <td>611.0</td>\n",
       "    </tr>\n",
       "    <tr>\n",
       "      <th>2</th>\n",
       "      <td>JAMMU AND KASHMIR</td>\n",
       "      <td>Leh(Ladakh)</td>\n",
       "      <td>133487.0</td>\n",
       "      <td>78971.0</td>\n",
       "      <td>54516.0</td>\n",
       "      <td>0</td>\n",
       "      <td>62834.0</td>\n",
       "      <td>30936.0</td>\n",
       "      <td>36920.0</td>\n",
       "      <td>17474.0</td>\n",
       "      <td>0</td>\n",
       "      <td>70703.0</td>\n",
       "      <td>41515.0</td>\n",
       "      <td>NaN</td>\n",
       "      <td>250.0</td>\n",
       "    </tr>\n",
       "  </tbody>\n",
       "</table>\n",
       "</div>"
      ],
      "text/plain": [
       "            State/UT     District  Population      Male    Female  Literate  \\\n",
       "0  JAMMU AND KASHMIR      Kupwara    870354.0  474190.0  396164.0         0   \n",
       "1  JAMMU AND KASHMIR       Badgam    753745.0       NaN  355704.0         0   \n",
       "2  JAMMU AND KASHMIR  Leh(Ladakh)    133487.0   78971.0   54516.0         0   \n",
       "\n",
       "   Literate_Male  Literate_Female  Households_Rural  Urban_Households  \\\n",
       "0       282823.0         156831.0          158438.0               NaN   \n",
       "1       207741.0         127908.0          160649.0           27190.0   \n",
       "2        62834.0          30936.0           36920.0           17474.0   \n",
       "\n",
       "   Households  Young_and_Adult  Middle_Aged  Senior_Citizen  Age_Not_Stated  \n",
       "0           0         600759.0     178435.0         89679.0          1481.0  \n",
       "1           0         503223.0     160933.0         88978.0           611.0  \n",
       "2           0          70703.0      41515.0             NaN           250.0  "
      ]
     },
     "execution_count": 26,
     "metadata": {},
     "output_type": "execute_result"
    }
   ],
   "source": [
    "# The State/UT names have some different formats compared to other census and housing data. \n",
    "\n",
    "df_cens = pd.read_csv('../Clean_data/Census_cleaned.csv')\n",
    "df_cens.head(3)"
   ]
  },
  {
   "cell_type": "code",
   "execution_count": 35,
   "metadata": {},
   "outputs": [
    {
     "data": {
      "text/plain": [
       "array(['Andhra Pradesh', 'Arunachal Pradesh*', 'Assam', 'Bihar',\n",
       "       'Chhattisgarh', 'Goa*', 'Gujarat', 'Haryana*', 'Himachal Pradesh*',\n",
       "       'Jammu & Kashmir', 'Jharkhand', 'Karnataka*', 'Kerala',\n",
       "       'Madhya Pradesh', 'Maharashtra', 'Manipur', 'Meghalaya*',\n",
       "       'Mizoram*', 'Nagaland', 'Odisha*', 'Punjab*', 'Rajasthan',\n",
       "       'Sikkim*', 'Tamil Nadu*', 'Telangana*', 'Tripura*',\n",
       "       'Uttar Pradesh*', 'Uttarakhand', 'West Bengal',\n",
       "       'Andaman & Nicobar Islands', 'Chandigarh', 'Dadra & Nagar Haveli*',\n",
       "       'Daman & Diu', 'Delhi', 'Lakshadweep', 'Puducherry', 'INDIA'],\n",
       "      dtype=object)"
      ]
     },
     "execution_count": 35,
     "metadata": {},
     "output_type": "execute_result"
    }
   ],
   "source": [
    "df_govt_hs['State/UT'].unique()"
   ]
  },
  {
   "cell_type": "code",
   "execution_count": 34,
   "metadata": {},
   "outputs": [
    {
     "data": {
      "text/plain": [
       "9               Jammu & Kashmir\n",
       "29    Andaman & Nicobar Islands\n",
       "31        Dadra & Nagar Haveli*\n",
       "32                  Daman & Diu\n",
       "36                        INDIA\n",
       "Name: State/UT, dtype: object"
      ]
     },
     "execution_count": 34,
     "metadata": {},
     "output_type": "execute_result"
    }
   ],
   "source": [
    "df_govt_hs[~df_govt_hs['State/UT'].apply(lambda x: x.replace('*','').upper()).isin(df_cens['State/UT'].unique())]['State/UT']"
   ]
  },
  {
   "cell_type": "code",
   "execution_count": 38,
   "metadata": {},
   "outputs": [
    {
     "data": {
      "text/plain": [
       "36    INDIA\n",
       "Name: State/UT, dtype: object"
      ]
     },
     "execution_count": 38,
     "metadata": {},
     "output_type": "execute_result"
    }
   ],
   "source": [
    "\n",
    "df_govt_hs[~df_govt_hs['State/UT'].apply(lambda x: x.replace('*','').replace('&','and').upper()).isin(df_cens['State/UT'].unique())]['State/UT']\n"
   ]
  },
  {
   "cell_type": "code",
   "execution_count": null,
   "metadata": {},
   "outputs": [],
   "source": [
    "# def update_st_ut(df):\n",
    "#     df = df.apply(lambda x:  x.upper().replace('&', 'AND').replace('*','')\n",
    "#                             if x.upper().replace('&', 'AND').replace('*','') in df_cens['State/UT'].unique()\n",
    "#                             else x.upper())\n",
    "#     return df"
   ]
  },
  {
   "cell_type": "code",
   "execution_count": 42,
   "metadata": {},
   "outputs": [
    {
     "data": {
      "text/html": [
       "<div>\n",
       "<style scoped>\n",
       "    .dataframe tbody tr th:only-of-type {\n",
       "        vertical-align: middle;\n",
       "    }\n",
       "\n",
       "    .dataframe tbody tr th {\n",
       "        vertical-align: top;\n",
       "    }\n",
       "\n",
       "    .dataframe thead th {\n",
       "        text-align: right;\n",
       "    }\n",
       "</style>\n",
       "<table border=\"1\" class=\"dataframe\">\n",
       "  <thead>\n",
       "    <tr style=\"text-align: right;\">\n",
       "      <th></th>\n",
       "      <th>State/UT</th>\n",
       "      <th>Rural_Government_Hospitals</th>\n",
       "      <th>Rural_Government_Beds</th>\n",
       "      <th>Urban_Government_Hospitals</th>\n",
       "      <th>Urban_Government_Beds</th>\n",
       "      <th>Last_Updated</th>\n",
       "    </tr>\n",
       "  </thead>\n",
       "  <tbody>\n",
       "    <tr>\n",
       "      <th>0</th>\n",
       "      <td>ANDHRA PRADESH</td>\n",
       "      <td>193</td>\n",
       "      <td>6480</td>\n",
       "      <td>65</td>\n",
       "      <td>16658</td>\n",
       "      <td>2017-01-01</td>\n",
       "    </tr>\n",
       "    <tr>\n",
       "      <th>1</th>\n",
       "      <td>ARUNACHAL PRADESH</td>\n",
       "      <td>208</td>\n",
       "      <td>2136</td>\n",
       "      <td>10</td>\n",
       "      <td>268</td>\n",
       "      <td>2017-12-31</td>\n",
       "    </tr>\n",
       "    <tr>\n",
       "      <th>2</th>\n",
       "      <td>ASSAM</td>\n",
       "      <td>1176</td>\n",
       "      <td>10944</td>\n",
       "      <td>50</td>\n",
       "      <td>6198</td>\n",
       "      <td>2017-12-31</td>\n",
       "    </tr>\n",
       "    <tr>\n",
       "      <th>3</th>\n",
       "      <td>BIHAR</td>\n",
       "      <td>930</td>\n",
       "      <td>6083</td>\n",
       "      <td>103</td>\n",
       "      <td>5936</td>\n",
       "      <td>2016-12-31</td>\n",
       "    </tr>\n",
       "  </tbody>\n",
       "</table>\n",
       "</div>"
      ],
      "text/plain": [
       "            State/UT  Rural_Government_Hospitals  Rural_Government_Beds  \\\n",
       "0     ANDHRA PRADESH                         193                   6480   \n",
       "1  ARUNACHAL PRADESH                         208                   2136   \n",
       "2              ASSAM                        1176                  10944   \n",
       "3              BIHAR                         930                   6083   \n",
       "\n",
       "   Urban_Government_Hospitals  Urban_Government_Beds Last_Updated  \n",
       "0                          65                  16658   2017-01-01  \n",
       "1                          10                    268   2017-12-31  \n",
       "2                          50                   6198   2017-12-31  \n",
       "3                         103                   5936   2016-12-31  "
      ]
     },
     "execution_count": 42,
     "metadata": {},
     "output_type": "execute_result"
    }
   ],
   "source": [
    "# updating the state/ut names according to the \n",
    "df_govt_hs['State/UT'] = df_govt_hs['State/UT'].apply(lambda x: x.replace('*','').replace('&','and').upper())\n",
    "df_govt_hs.head(4)"
   ]
  },
  {
   "cell_type": "code",
   "execution_count": 41,
   "metadata": {},
   "outputs": [
    {
     "data": {
      "text/plain": [
       "array(['JAMMU AND KASHMIR', 'HIMACHAL PRADESH', 'PUNJAB', 'CHANDIGARH',\n",
       "       'UTTARAKHAND', 'HARYANA', 'DELHI', 'RAJASTHAN', 'UTTAR PRADESH',\n",
       "       'BIHAR', 'SIKKIM', 'ARUNACHAL PRADESH', 'NAGALAND', 'MANIPUR',\n",
       "       'MIZORAM', 'TRIPURA', 'MEGHALAYA', 'ASSAM', 'WEST BENGAL',\n",
       "       'JHARKHAND', 'ODISHA', 'CHHATTISGARH', 'MADHYA PRADESH', 'GUJARAT',\n",
       "       'DAMAN AND DIU', 'DADRA AND NAGAR HAVELI', 'MAHARASHTRA',\n",
       "       'TELANGANA', 'ANDHRA PRADESH', 'KARNATAKA', 'GOA', 'LAKSHADWEEP',\n",
       "       'KERALA', 'TAMIL NADU', 'PUDUCHERRY',\n",
       "       'ANDAMAN AND NICOBAR ISLANDS'], dtype=object)"
      ]
     },
     "execution_count": 41,
     "metadata": {},
     "output_type": "execute_result"
    }
   ],
   "source": [
    "df_cens['State/UT'].unique()"
   ]
  },
  {
   "cell_type": "code",
   "execution_count": 43,
   "metadata": {},
   "outputs": [
    {
     "data": {
      "text/plain": [
       "array(['ANDHRA PRADESH', 'ARUNACHAL PRADESH', 'ASSAM', 'BIHAR',\n",
       "       'CHHATTISGARH', 'GOA', 'GUJARAT', 'HARYANA', 'HIMACHAL PRADESH',\n",
       "       'JAMMU AND KASHMIR', 'JHARKHAND', 'KARNATAKA', 'KERALA',\n",
       "       'MADHYA PRADESH', 'MAHARASHTRA', 'MANIPUR', 'MEGHALAYA', 'MIZORAM',\n",
       "       'NAGALAND', 'ODISHA', 'PUNJAB', 'RAJASTHAN', 'SIKKIM',\n",
       "       'TAMIL NADU', 'TELANGANA', 'TRIPURA', 'UTTAR PRADESH',\n",
       "       'UTTARAKHAND', 'WEST BENGAL', 'ANDAMAN AND NICOBAR ISLANDS',\n",
       "       'CHANDIGARH', 'DADRA AND NAGAR HAVELI', 'DAMAN AND DIU', 'DELHI',\n",
       "       'LAKSHADWEEP', 'PUDUCHERRY', 'INDIA'], dtype=object)"
      ]
     },
     "execution_count": 43,
     "metadata": {},
     "output_type": "execute_result"
    }
   ],
   "source": [
    "df_govt_hs['State/UT'].unique()"
   ]
  },
  {
   "cell_type": "code",
   "execution_count": 44,
   "metadata": {},
   "outputs": [],
   "source": [
    "# government_hospital.csv\n",
    "# Saving the file \n",
    "save_path = '../Clean_data/government_hospital.csv' \n",
    "df_govt_hs.to_csv(save_path, index=False)"
   ]
  },
  {
   "cell_type": "code",
   "execution_count": null,
   "metadata": {},
   "outputs": [],
   "source": []
  },
  {
   "cell_type": "markdown",
   "metadata": {},
   "source": [
    "### Problem Statement 15: (Government healthcare facility disparity)\n"
   ]
  },
  {
   "cell_type": "code",
   "execution_count": 45,
   "metadata": {},
   "outputs": [],
   "source": [
    "# Since the resources are limited, it is required to identify the region which lacks the healthcare facility the most for \n",
    "# creating new government hospitals.\n",
    "\n",
    "# An idea was suggested* that first the three States/UTs which have the least amount of beds (in all hospitals government and private) \n",
    "# for their population is identified. Among those three the state which has the least number of government hospitals can be recommended for \n",
    "# setting up a new government hospital."
   ]
  },
  {
   "cell_type": "code",
   "execution_count": 52,
   "metadata": {},
   "outputs": [
    {
     "data": {
      "text/html": [
       "<div>\n",
       "<style scoped>\n",
       "    .dataframe tbody tr th:only-of-type {\n",
       "        vertical-align: middle;\n",
       "    }\n",
       "\n",
       "    .dataframe tbody tr th {\n",
       "        vertical-align: top;\n",
       "    }\n",
       "\n",
       "    .dataframe thead th {\n",
       "        text-align: right;\n",
       "    }\n",
       "</style>\n",
       "<table border=\"1\" class=\"dataframe\">\n",
       "  <thead>\n",
       "    <tr style=\"text-align: right;\">\n",
       "      <th></th>\n",
       "      <th>State/UT</th>\n",
       "      <th>Rural_Government_Hospitals</th>\n",
       "      <th>Rural_Government_Beds</th>\n",
       "      <th>Urban_Government_Hospitals</th>\n",
       "      <th>Urban_Government_Beds</th>\n",
       "      <th>Last_Updated</th>\n",
       "      <th>Total_beds</th>\n",
       "      <th>Total_Hospitals</th>\n",
       "    </tr>\n",
       "  </thead>\n",
       "  <tbody>\n",
       "    <tr>\n",
       "      <th>0</th>\n",
       "      <td>ANDHRA PRADESH</td>\n",
       "      <td>193</td>\n",
       "      <td>6480</td>\n",
       "      <td>65</td>\n",
       "      <td>16658</td>\n",
       "      <td>2017-01-01</td>\n",
       "      <td>23138</td>\n",
       "      <td>258</td>\n",
       "    </tr>\n",
       "    <tr>\n",
       "      <th>1</th>\n",
       "      <td>ARUNACHAL PRADESH</td>\n",
       "      <td>208</td>\n",
       "      <td>2136</td>\n",
       "      <td>10</td>\n",
       "      <td>268</td>\n",
       "      <td>2017-12-31</td>\n",
       "      <td>2404</td>\n",
       "      <td>218</td>\n",
       "    </tr>\n",
       "    <tr>\n",
       "      <th>2</th>\n",
       "      <td>ASSAM</td>\n",
       "      <td>1176</td>\n",
       "      <td>10944</td>\n",
       "      <td>50</td>\n",
       "      <td>6198</td>\n",
       "      <td>2017-12-31</td>\n",
       "      <td>17142</td>\n",
       "      <td>1226</td>\n",
       "    </tr>\n",
       "  </tbody>\n",
       "</table>\n",
       "</div>"
      ],
      "text/plain": [
       "            State/UT  Rural_Government_Hospitals  Rural_Government_Beds  \\\n",
       "0     ANDHRA PRADESH                         193                   6480   \n",
       "1  ARUNACHAL PRADESH                         208                   2136   \n",
       "2              ASSAM                        1176                  10944   \n",
       "\n",
       "   Urban_Government_Hospitals  Urban_Government_Beds Last_Updated  Total_beds  \\\n",
       "0                          65                  16658   2017-01-01       23138   \n",
       "1                          10                    268   2017-12-31        2404   \n",
       "2                          50                   6198   2017-12-31       17142   \n",
       "\n",
       "   Total_Hospitals  \n",
       "0              258  \n",
       "1              218  \n",
       "2             1226  "
      ]
     },
     "execution_count": 52,
     "metadata": {},
     "output_type": "execute_result"
    }
   ],
   "source": [
    "df_govt_hs['Total_beds'] = df_govt_hs['Urban_Government_Beds'] + df_govt_hs['Rural_Government_Beds']\n",
    "df_govt_hs['Total_Hospitals'] = df_govt_hs['Rural_Government_Hospitals'] + df_govt_hs['Urban_Government_Hospitals']\n",
    "df_govt_hs.head(3)"
   ]
  },
  {
   "cell_type": "code",
   "execution_count": 55,
   "metadata": {},
   "outputs": [
    {
     "data": {
      "text/html": [
       "<div>\n",
       "<style scoped>\n",
       "    .dataframe tbody tr th:only-of-type {\n",
       "        vertical-align: middle;\n",
       "    }\n",
       "\n",
       "    .dataframe tbody tr th {\n",
       "        vertical-align: top;\n",
       "    }\n",
       "\n",
       "    .dataframe thead th {\n",
       "        text-align: right;\n",
       "    }\n",
       "</style>\n",
       "<table border=\"1\" class=\"dataframe\">\n",
       "  <thead>\n",
       "    <tr style=\"text-align: right;\">\n",
       "      <th></th>\n",
       "      <th>Total_beds</th>\n",
       "      <th>Total_Hospitals</th>\n",
       "    </tr>\n",
       "    <tr>\n",
       "      <th>State/UT</th>\n",
       "      <th></th>\n",
       "      <th></th>\n",
       "    </tr>\n",
       "  </thead>\n",
       "  <tbody>\n",
       "    <tr>\n",
       "      <th>DAMAN AND DIU</th>\n",
       "      <td>240</td>\n",
       "      <td>5</td>\n",
       "    </tr>\n",
       "    <tr>\n",
       "      <th>LAKSHADWEEP</th>\n",
       "      <td>300</td>\n",
       "      <td>9</td>\n",
       "    </tr>\n",
       "    <tr>\n",
       "      <th>DADRA AND NAGAR HAVELI</th>\n",
       "      <td>589</td>\n",
       "      <td>11</td>\n",
       "    </tr>\n",
       "    <tr>\n",
       "      <th>CHANDIGARH</th>\n",
       "      <td>778</td>\n",
       "      <td>4</td>\n",
       "    </tr>\n",
       "    <tr>\n",
       "      <th>ANDAMAN AND NICOBAR ISLANDS</th>\n",
       "      <td>1075</td>\n",
       "      <td>30</td>\n",
       "    </tr>\n",
       "  </tbody>\n",
       "</table>\n",
       "</div>"
      ],
      "text/plain": [
       "                             Total_beds  Total_Hospitals\n",
       "State/UT                                                \n",
       "DAMAN AND DIU                       240                5\n",
       "LAKSHADWEEP                         300                9\n",
       "DADRA AND NAGAR HAVELI              589               11\n",
       "CHANDIGARH                          778                4\n",
       "ANDAMAN AND NICOBAR ISLANDS        1075               30"
      ]
     },
     "execution_count": 55,
     "metadata": {},
     "output_type": "execute_result"
    }
   ],
   "source": [
    "df_govt_hs.groupby('State/UT').sum().sort_values(['Total_beds','Total_Hospitals'])[['Total_beds', 'Total_Hospitals']].iloc[:5,:]"
   ]
  },
  {
   "cell_type": "code",
   "execution_count": null,
   "metadata": {},
   "outputs": [],
   "source": []
  },
  {
   "cell_type": "code",
   "execution_count": null,
   "metadata": {},
   "outputs": [],
   "source": []
  },
  {
   "cell_type": "code",
   "execution_count": null,
   "metadata": {},
   "outputs": [],
   "source": []
  },
  {
   "cell_type": "code",
   "execution_count": null,
   "metadata": {},
   "outputs": [],
   "source": []
  },
  {
   "cell_type": "code",
   "execution_count": null,
   "metadata": {},
   "outputs": [],
   "source": []
  }
 ],
 "metadata": {
  "kernelspec": {
   "display_name": "base",
   "language": "python",
   "name": "python3"
  },
  "language_info": {
   "codemirror_mode": {
    "name": "ipython",
    "version": 3
   },
   "file_extension": ".py",
   "mimetype": "text/x-python",
   "name": "python",
   "nbconvert_exporter": "python",
   "pygments_lexer": "ipython3",
   "version": "3.9.13"
  },
  "orig_nbformat": 4,
  "vscode": {
   "interpreter": {
    "hash": "82d379567c736fd96875b79b03b5787a895519948a6439cc2ff684c13070d574"
   }
  }
 },
 "nbformat": 4,
 "nbformat_minor": 2
}
